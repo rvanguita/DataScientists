{
 "cells": [
  {
   "cell_type": "code",
   "execution_count": 1,
   "id": "579a1943-7381-45b2-b39e-fd5c6b4c9391",
   "metadata": {},
   "outputs": [],
   "source": [
    "import pandas as pd\n",
    "import plotly.express as px\n",
    "import dash\n",
    "from dash import dcc, html\n",
    "from dash.dependencies import Input, Output"
   ]
  },
  {
   "cell_type": "markdown",
   "id": "0098ad0a-5c30-4e3e-8891-96e3aac23111",
   "metadata": {},
   "source": [
    "# GDP"
   ]
  },
  {
   "cell_type": "code",
   "execution_count": 2,
   "id": "6785bb96-d476-422f-b25f-9e1951270ae2",
   "metadata": {
    "scrolled": true
   },
   "outputs": [
    {
     "data": {
      "text/html": [
       "<div>\n",
       "<style scoped>\n",
       "    .dataframe tbody tr th:only-of-type {\n",
       "        vertical-align: middle;\n",
       "    }\n",
       "\n",
       "    .dataframe tbody tr th {\n",
       "        vertical-align: top;\n",
       "    }\n",
       "\n",
       "    .dataframe thead th {\n",
       "        text-align: right;\n",
       "    }\n",
       "</style>\n",
       "<table border=\"1\" class=\"dataframe\">\n",
       "  <thead>\n",
       "    <tr style=\"text-align: right;\">\n",
       "      <th></th>\n",
       "      <th>Country Name</th>\n",
       "      <th>Country Code</th>\n",
       "      <th>Indicator Name</th>\n",
       "      <th>Indicator Code</th>\n",
       "      <th>1960</th>\n",
       "      <th>1961</th>\n",
       "      <th>1962</th>\n",
       "      <th>1963</th>\n",
       "      <th>1964</th>\n",
       "      <th>1965</th>\n",
       "      <th>...</th>\n",
       "      <th>2014</th>\n",
       "      <th>2015</th>\n",
       "      <th>2016</th>\n",
       "      <th>2017</th>\n",
       "      <th>2018</th>\n",
       "      <th>2019</th>\n",
       "      <th>2020</th>\n",
       "      <th>2021</th>\n",
       "      <th>2022</th>\n",
       "      <th>Unnamed: 67</th>\n",
       "    </tr>\n",
       "  </thead>\n",
       "  <tbody>\n",
       "    <tr>\n",
       "      <th>0</th>\n",
       "      <td>Aruba</td>\n",
       "      <td>ABW</td>\n",
       "      <td>GDP (current US$)</td>\n",
       "      <td>NY.GDP.MKTP.CD</td>\n",
       "      <td>NaN</td>\n",
       "      <td>NaN</td>\n",
       "      <td>NaN</td>\n",
       "      <td>NaN</td>\n",
       "      <td>NaN</td>\n",
       "      <td>NaN</td>\n",
       "      <td>...</td>\n",
       "      <td>2.791061e+09</td>\n",
       "      <td>2.963128e+09</td>\n",
       "      <td>2.983799e+09</td>\n",
       "      <td>3.092179e+09</td>\n",
       "      <td>3.276188e+09</td>\n",
       "      <td>3.395794e+09</td>\n",
       "      <td>2.610039e+09</td>\n",
       "      <td>3.126019e+09</td>\n",
       "      <td>NaN</td>\n",
       "      <td>NaN</td>\n",
       "    </tr>\n",
       "    <tr>\n",
       "      <th>1</th>\n",
       "      <td>Africa Eastern and Southern</td>\n",
       "      <td>AFE</td>\n",
       "      <td>GDP (current US$)</td>\n",
       "      <td>NY.GDP.MKTP.CD</td>\n",
       "      <td>2.112502e+10</td>\n",
       "      <td>2.161623e+10</td>\n",
       "      <td>2.350628e+10</td>\n",
       "      <td>2.804836e+10</td>\n",
       "      <td>2.592067e+10</td>\n",
       "      <td>2.947210e+10</td>\n",
       "      <td>...</td>\n",
       "      <td>1.006526e+12</td>\n",
       "      <td>9.273485e+11</td>\n",
       "      <td>8.851764e+11</td>\n",
       "      <td>1.021043e+12</td>\n",
       "      <td>1.007196e+12</td>\n",
       "      <td>1.000834e+12</td>\n",
       "      <td>9.275933e+11</td>\n",
       "      <td>1.081998e+12</td>\n",
       "      <td>1.169484e+12</td>\n",
       "      <td>NaN</td>\n",
       "    </tr>\n",
       "  </tbody>\n",
       "</table>\n",
       "<p>2 rows × 68 columns</p>\n",
       "</div>"
      ],
      "text/plain": [
       "                  Country Name Country Code     Indicator Name  \\\n",
       "0                        Aruba          ABW  GDP (current US$)   \n",
       "1  Africa Eastern and Southern          AFE  GDP (current US$)   \n",
       "\n",
       "   Indicator Code          1960          1961          1962          1963  \\\n",
       "0  NY.GDP.MKTP.CD           NaN           NaN           NaN           NaN   \n",
       "1  NY.GDP.MKTP.CD  2.112502e+10  2.161623e+10  2.350628e+10  2.804836e+10   \n",
       "\n",
       "           1964          1965  ...          2014          2015          2016  \\\n",
       "0           NaN           NaN  ...  2.791061e+09  2.963128e+09  2.983799e+09   \n",
       "1  2.592067e+10  2.947210e+10  ...  1.006526e+12  9.273485e+11  8.851764e+11   \n",
       "\n",
       "           2017          2018          2019          2020          2021  \\\n",
       "0  3.092179e+09  3.276188e+09  3.395794e+09  2.610039e+09  3.126019e+09   \n",
       "1  1.021043e+12  1.007196e+12  1.000834e+12  9.275933e+11  1.081998e+12   \n",
       "\n",
       "           2022  Unnamed: 67  \n",
       "0           NaN          NaN  \n",
       "1  1.169484e+12          NaN  \n",
       "\n",
       "[2 rows x 68 columns]"
      ]
     },
     "execution_count": 2,
     "metadata": {},
     "output_type": "execute_result"
    }
   ],
   "source": [
    "df_gdp_world = pd.read_csv('data/GDP_world.csv', skiprows = 4)\n",
    "df_gdp_world.head(2)"
   ]
  },
  {
   "cell_type": "code",
   "execution_count": 3,
   "id": "17aa1210-8236-44aa-b222-edda25fdb9c2",
   "metadata": {},
   "outputs": [],
   "source": [
    "df_gdp_world.drop(['Unnamed: 67'], axis=1, inplace=True)\n",
    "\n",
    "# Calculando a variação percentual a partir da quinta coluna\n",
    "df_variacao = df_gdp_world.iloc[:, 4:].pct_change(axis=1, fill_method=None) * 100\n",
    "\n",
    "# Concatenando os DataFrames\n",
    "df_plot = pd.concat([df_gdp_world['Country Name'], df_variacao], axis=1)"
   ]
  },
  {
   "cell_type": "code",
   "execution_count": 4,
   "id": "375b83b4-f6a6-4642-83c7-756075700ade",
   "metadata": {},
   "outputs": [
    {
     "data": {
      "text/html": [
       "\n",
       "        <iframe\n",
       "            width=\"100%\"\n",
       "            height=\"650\"\n",
       "            src=\"http://127.0.0.1:8050/\"\n",
       "            frameborder=\"0\"\n",
       "            allowfullscreen\n",
       "            \n",
       "        ></iframe>\n",
       "        "
      ],
      "text/plain": [
       "<IPython.lib.display.IFrame at 0x7f5c0cf96ef0>"
      ]
     },
     "metadata": {},
     "output_type": "display_data"
    }
   ],
   "source": [
    "# Definir aplicativo Dash\n",
    "app = dash.Dash(__name__)\n",
    "\n",
    "# Selecionar países para visualização\n",
    "paises = ['Argentina', 'Brazil', 'United States']\n",
    "\n",
    "# Layout da aplicação\n",
    "app.layout = html.Div([\n",
    "    html.Label('Selecione os países:'),\n",
    "    dcc.Dropdown(\n",
    "        id='dropdown-paises',\n",
    "        options=[{'label': pais, 'value': pais} for pais in df_plot['Country Name'].unique()],\n",
    "        value=paises,\n",
    "        multi=True\n",
    "    ),\n",
    "    dcc.RadioItems(\n",
    "        id='radio-gdp-type',\n",
    "        options=[\n",
    "            {'label': 'Variação Percentual', 'value': 'percentual'},\n",
    "            {'label': 'Valor Bruto', 'value': 'bruto'}\n",
    "        ],\n",
    "        value='percentual',\n",
    "        labelStyle={'display': 'block'}\n",
    "    ),\n",
    "    dcc.Graph(id='line-chart')\n",
    "])\n",
    "\n",
    "# Callback para atualizar o gráfico com base nas seleções\n",
    "@app.callback(\n",
    "    Output('line-chart', 'figure'),\n",
    "    [Input('dropdown-paises', 'value'),\n",
    "     Input('radio-gdp-type', 'value')]\n",
    ")\n",
    "def update_figure(selected_countries, gdp_type):\n",
    "    if gdp_type == 'percentual':\n",
    "        df_selected = df_plot\n",
    "    else:\n",
    "        df_selected = df_gdp_world  # Alterado para df para exibir o valor bruto\n",
    "\n",
    "    df_paises = df_selected[df_selected['Country Name'].isin(selected_countries)]\n",
    "    df_paises_long = df_paises.melt(id_vars='Country Name', var_name='Year', value_name='Valor')\n",
    "\n",
    "    # Remove valores 'Year' da coluna Year\n",
    "    df_paises_long = df_paises_long[df_paises_long['Year'] != 'Year']\n",
    "    # Converte Year para datetime\n",
    "    df_paises_long['Year'] = pd.to_datetime(df_paises_long['Year'], format='%Y', errors='coerce')\n",
    "\n",
    "    fig = px.line(df_paises_long, x='Year', y='Valor', color='Country Name',\n",
    "                  title=f'{gdp_type.capitalize()} do GDP por Ano')\n",
    "    fig.update_layout(xaxis_title='Ano', yaxis_title=f'{gdp_type.capitalize()} do GDP')\n",
    "\n",
    "    return fig\n",
    "    \n",
    "# Executar o aplicativo Dash\n",
    "if __name__ == '__main__':\n",
    "    app.run_server(debug=True)"
   ]
  },
  {
   "cell_type": "markdown",
   "id": "7a51d626-54e0-463e-a779-25b0c63a40b5",
   "metadata": {},
   "source": [
    "---"
   ]
  },
  {
   "cell_type": "markdown",
   "id": "d46a6b15-6926-416f-a84a-ba9e9f8e93c2",
   "metadata": {},
   "source": [
    "# Inflation"
   ]
  },
  {
   "cell_type": "code",
   "execution_count": 5,
   "id": "561c581e-3578-45b3-ba0c-ec31b9bfd7bf",
   "metadata": {},
   "outputs": [
    {
     "data": {
      "text/html": [
       "<div>\n",
       "<style scoped>\n",
       "    .dataframe tbody tr th:only-of-type {\n",
       "        vertical-align: middle;\n",
       "    }\n",
       "\n",
       "    .dataframe tbody tr th {\n",
       "        vertical-align: top;\n",
       "    }\n",
       "\n",
       "    .dataframe thead th {\n",
       "        text-align: right;\n",
       "    }\n",
       "</style>\n",
       "<table border=\"1\" class=\"dataframe\">\n",
       "  <thead>\n",
       "    <tr style=\"text-align: right;\">\n",
       "      <th></th>\n",
       "      <th>Entity</th>\n",
       "      <th>Code</th>\n",
       "      <th>Year</th>\n",
       "      <th>Inflation, consumer prices (annual %)</th>\n",
       "    </tr>\n",
       "  </thead>\n",
       "  <tbody>\n",
       "    <tr>\n",
       "      <th>0</th>\n",
       "      <td>Afghanistan</td>\n",
       "      <td>AFG</td>\n",
       "      <td>2005</td>\n",
       "      <td>12.686269</td>\n",
       "    </tr>\n",
       "    <tr>\n",
       "      <th>1</th>\n",
       "      <td>Afghanistan</td>\n",
       "      <td>AFG</td>\n",
       "      <td>2006</td>\n",
       "      <td>6.784596</td>\n",
       "    </tr>\n",
       "    <tr>\n",
       "      <th>2</th>\n",
       "      <td>Afghanistan</td>\n",
       "      <td>AFG</td>\n",
       "      <td>2007</td>\n",
       "      <td>8.680571</td>\n",
       "    </tr>\n",
       "    <tr>\n",
       "      <th>3</th>\n",
       "      <td>Afghanistan</td>\n",
       "      <td>AFG</td>\n",
       "      <td>2008</td>\n",
       "      <td>26.418665</td>\n",
       "    </tr>\n",
       "    <tr>\n",
       "      <th>4</th>\n",
       "      <td>Afghanistan</td>\n",
       "      <td>AFG</td>\n",
       "      <td>2009</td>\n",
       "      <td>-6.811161</td>\n",
       "    </tr>\n",
       "  </tbody>\n",
       "</table>\n",
       "</div>"
      ],
      "text/plain": [
       "        Entity Code  Year  Inflation, consumer prices (annual %)\n",
       "0  Afghanistan  AFG  2005                              12.686269\n",
       "1  Afghanistan  AFG  2006                               6.784596\n",
       "2  Afghanistan  AFG  2007                               8.680571\n",
       "3  Afghanistan  AFG  2008                              26.418665\n",
       "4  Afghanistan  AFG  2009                              -6.811161"
      ]
     },
     "execution_count": 5,
     "metadata": {},
     "output_type": "execute_result"
    }
   ],
   "source": [
    "df_inflation = pd.read_csv('data/inflation-of-consumer-prices.csv')\n",
    "df_inflation.head(5)"
   ]
  },
  {
   "cell_type": "code",
   "execution_count": 6,
   "id": "65d06e94-6747-473f-83f2-a239e0e2acc5",
   "metadata": {},
   "outputs": [],
   "source": [
    "# Filtrar dados a partir do ano 2000\n",
    "df_inflation = df_inflation[df_inflation['Year'] >= 2000]"
   ]
  },
  {
   "cell_type": "code",
   "execution_count": 7,
   "id": "5a585033-fcfc-4f71-8645-30a02da62475",
   "metadata": {},
   "outputs": [
    {
     "data": {
      "text/html": [
       "\n",
       "        <iframe\n",
       "            width=\"100%\"\n",
       "            height=\"650\"\n",
       "            src=\"http://127.0.0.1:8050/\"\n",
       "            frameborder=\"0\"\n",
       "            allowfullscreen\n",
       "            \n",
       "        ></iframe>\n",
       "        "
      ],
      "text/plain": [
       "<IPython.lib.display.IFrame at 0x7f5c0747a2c0>"
      ]
     },
     "metadata": {},
     "output_type": "display_data"
    }
   ],
   "source": [
    "# Definir aplicativo Dash\n",
    "app = dash.Dash(__name__)\n",
    "\n",
    "# Selecionar países para visualização\n",
    "paises = ['Brazil', 'United States']\n",
    "\n",
    "# Layout da aplicação\n",
    "app.layout = html.Div([\n",
    "    html.Label('Selecione os países:'),\n",
    "    dcc.Dropdown(\n",
    "        id='dropdown-paises',\n",
    "        options=[{'label': pais, 'value': pais} for pais in df_inflation['Entity'].unique()],\n",
    "        value=paises,\n",
    "        multi=True\n",
    "    ),\n",
    "    dcc.Graph(id='line-chart')\n",
    "])\n",
    "\n",
    "# Callback para atualizar o gráfico com base nas seleções\n",
    "@app.callback(\n",
    "    Output('line-chart', 'figure'),\n",
    "    [Input('dropdown-paises', 'value')]\n",
    ")\n",
    "def update_figure(selected_countries):\n",
    "    df_paises = df_inflation[df_inflation['Entity'].isin(selected_countries)]\n",
    "    fig = px.line(df_paises, x='Year', y='Inflation, consumer prices (annual %)', color='Entity',\n",
    "                  title='Inflação de Consumidor por Ano')\n",
    "    fig.update_layout(xaxis_title='Ano', yaxis_title='Inflação (%)')\n",
    "\n",
    "    return fig\n",
    "    \n",
    "# Executar o aplicativo Dash\n",
    "if __name__ == '__main__':\n",
    "    app.run_server(debug=True)\n"
   ]
  },
  {
   "cell_type": "code",
   "execution_count": null,
   "id": "a8e063d1-f2d5-47b0-8d32-213eef32fa63",
   "metadata": {},
   "outputs": [],
   "source": []
  },
  {
   "cell_type": "code",
   "execution_count": null,
   "id": "7de8a401-b7f5-43fe-a588-d393c21dc2c0",
   "metadata": {},
   "outputs": [],
   "source": []
  },
  {
   "cell_type": "code",
   "execution_count": null,
   "id": "0d1119b4-958d-42d0-bd0e-ebb9b62dbc81",
   "metadata": {},
   "outputs": [],
   "source": []
  },
  {
   "cell_type": "code",
   "execution_count": null,
   "id": "c53c6adf-0f8a-4419-bb9e-77011d6537ed",
   "metadata": {},
   "outputs": [],
   "source": []
  },
  {
   "cell_type": "code",
   "execution_count": null,
   "id": "978ec3d2-ed4d-4790-90f8-e275921460d3",
   "metadata": {},
   "outputs": [],
   "source": []
  },
  {
   "cell_type": "code",
   "execution_count": null,
   "id": "2cf9120b-31da-448c-b0e7-b54fc0e3d3e7",
   "metadata": {},
   "outputs": [],
   "source": []
  },
  {
   "cell_type": "code",
   "execution_count": 8,
   "id": "b71887da-7048-4049-bd94-5fcadad9905a",
   "metadata": {},
   "outputs": [],
   "source": [
    "# Carregar os DataFrames\n",
    "df_gdp = pd.read_csv('data/GDP_world.csv', skiprows = 4)\n",
    "df_inflation = pd.read_csv('data/inflation-of-consumer-prices.csv')\n",
    "\n",
    "# Filtrar dados de inflação a partir do ano 2000\n",
    "df_inflation = df_inflation[df_inflation['Year'] >= 2000]"
   ]
  },
  {
   "cell_type": "code",
   "execution_count": 9,
   "id": "c952efa7-4ced-4405-8c15-0b07a8858434",
   "metadata": {},
   "outputs": [
    {
     "data": {
      "text/html": [
       "\n",
       "        <iframe\n",
       "            width=\"100%\"\n",
       "            height=\"650\"\n",
       "            src=\"http://127.0.0.1:8050/\"\n",
       "            frameborder=\"0\"\n",
       "            allowfullscreen\n",
       "            \n",
       "        ></iframe>\n",
       "        "
      ],
      "text/plain": [
       "<IPython.lib.display.IFrame at 0x7f5c0743cfa0>"
      ]
     },
     "metadata": {},
     "output_type": "display_data"
    }
   ],
   "source": [
    "# Definir aplicativo Dash\n",
    "app = dash.Dash(__name__)\n",
    "\n",
    "# Layout da aplicação\n",
    "app.layout = html.Div([\n",
    "    html.Label('Selecione os países:'),\n",
    "    dcc.Dropdown(\n",
    "        id='dropdown-paises',\n",
    "        options=[\n",
    "            {'label': pais, 'value': pais} for pais in ['Brazil', 'United States', 'World']\n",
    "        ],\n",
    "        value=['Brazil', 'United States', 'World'],\n",
    "        multi=True\n",
    "    ),\n",
    "    dcc.Graph(id='gdp-chart'),\n",
    "    dcc.Graph(id='inflation-chart')\n",
    "])\n",
    "\n",
    "# Callback para atualizar os gráficos com base nas seleções\n",
    "@app.callback(\n",
    "    [Output('gdp-chart', 'figure'),\n",
    "     Output('inflation-chart', 'figure')],\n",
    "    [Input('dropdown-paises', 'value')]\n",
    ")\n",
    "def update_figure(selected_countries):\n",
    "    gdp_fig = px.line()\n",
    "    inflation_fig = px.line()\n",
    "\n",
    "    for pais in selected_countries:\n",
    "        df_pais_gdp = df_gdp[df_gdp['Country Name'] == pais].iloc[:, 4:].iloc[:, ::10]\n",
    "        gdp_fig.add_scatter(\n",
    "            x=df_pais_gdp.columns,\n",
    "            y=df_pais_gdp.values[0],\n",
    "            mode='lines',\n",
    "            name=f'GDP de {pais}'\n",
    "        )\n",
    "\n",
    "        df_pais_inflation = df_inflation[df_inflation['Entity'] == pais]\n",
    "        inflation_fig.add_scatter(\n",
    "            x=df_pais_inflation['Year'],\n",
    "            y=df_pais_inflation['Inflation, consumer prices (annual %)'],\n",
    "            mode='lines',\n",
    "            name=f'Inflação de {pais}'\n",
    "        )\n",
    "\n",
    "    gdp_fig.update_layout(\n",
    "        xaxis_title='Ano',\n",
    "        yaxis_title='GDP',\n",
    "        title='GDP por Ano'\n",
    "    )\n",
    "\n",
    "    inflation_fig.update_layout(\n",
    "        xaxis_title='Ano',\n",
    "        yaxis_title='Inflação (%)',\n",
    "        title='Inflação por Ano'\n",
    "    )\n",
    "\n",
    "    return gdp_fig, inflation_fig\n",
    "\n",
    "# Executar o aplicativo Dash\n",
    "if __name__ == '__main__':\n",
    "    app.run_server(debug=True)"
   ]
  },
  {
   "cell_type": "code",
   "execution_count": null,
   "id": "79379d81-41db-4dad-acae-eee43293482b",
   "metadata": {},
   "outputs": [],
   "source": []
  },
  {
   "cell_type": "code",
   "execution_count": null,
   "id": "6fc88bf6-ddef-4f9e-a5d3-c00e4a910639",
   "metadata": {},
   "outputs": [],
   "source": []
  }
 ],
 "metadata": {
  "kernelspec": {
   "display_name": "Python 3 (ipykernel)",
   "language": "python",
   "name": "python3"
  },
  "language_info": {
   "codemirror_mode": {
    "name": "ipython",
    "version": 3
   },
   "file_extension": ".py",
   "mimetype": "text/x-python",
   "name": "python",
   "nbconvert_exporter": "python",
   "pygments_lexer": "ipython3",
   "version": "3.10.12"
  }
 },
 "nbformat": 4,
 "nbformat_minor": 5
}
