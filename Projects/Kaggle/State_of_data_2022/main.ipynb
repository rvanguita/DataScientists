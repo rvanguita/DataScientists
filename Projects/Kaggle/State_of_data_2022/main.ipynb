{
 "cells": [
  {
   "cell_type": "code",
   "execution_count": 1,
   "id": "5e482958-2f65-4682-92d2-5588a2a2a7a7",
   "metadata": {},
   "outputs": [],
   "source": [
    "import pandas as pd\n",
    "import numpy as np\n",
    "import matplotlib.pyplot as plt\n",
    "import seaborn as sns\n",
    "import re\n",
    "\n",
    "sns.set_style('whitegrid')"
   ]
  },
  {
   "cell_type": "markdown",
   "id": "5720e7cd-e50e-4149-bf7a-33a1cf4b53f3",
   "metadata": {},
   "source": [
    "#### Input data"
   ]
  },
  {
   "cell_type": "code",
   "execution_count": 2,
   "id": "7e71919b-fd03-45f2-8192-4fe1f827654f",
   "metadata": {},
   "outputs": [],
   "source": [
    "df = pd.read_csv('data/State_of_data_2022.csv')"
   ]
  },
  {
   "cell_type": "markdown",
   "id": "6d3b2552-7c35-4ef3-a434-2e6973ed0478",
   "metadata": {},
   "source": [
    "#### Fix columns names"
   ]
  },
  {
   "cell_type": "code",
   "execution_count": 3,
   "id": "557301c8-61c2-4a54-a808-cdb5b4581f7f",
   "metadata": {},
   "outputs": [],
   "source": [
    "columns = []\n",
    "for column in df.keys():\n",
    "    columns.append(column)\n",
    "    \n",
    "# Use uma expressão regular para extrair o texto após a vírgula\n",
    "pattern = r\"'\\s*,\\s*'(.+?)'\"\n",
    "\n",
    "new_column_names = [re.search(pattern, col).group(1) for col in columns]\n",
    "# Criar um dicionário mapeando os nomes antigos para os novos\n",
    "old_column_names = df.columns.tolist()\n",
    "column_mapping = dict(zip(old_column_names, new_column_names))\n",
    "\n",
    "# Renomear as colunas do DataFrame\n",
    "df.rename(columns=column_mapping, inplace=True)"
   ]
  },
  {
   "cell_type": "markdown",
   "id": "6defad1c-5e5a-49e2-8ed4-56bf7947e3e1",
   "metadata": {},
   "source": [
    "#### separating by question"
   ]
  },
  {
   "cell_type": "markdown",
   "id": "52125360-5595-4740-a89a-c1fbadf19c9a",
   "metadata": {},
   "source": [
    "#### 3 Sobre os dados da Pesquisa\n",
    "O questionário foi dividido em 8 partes, e dentro de cada uma das partes temos as perguntas e opções de escolha.\n",
    "\n",
    "Parte 1 - Dados demográficos \\\n",
    "Parte 2 - Dados sobre carreira \\\n",
    "Parte 3 - Desafios dos gestores de times de dados\\\n",
    "Parte 4 - Conhecimentos na área de dados\\\n",
    "Parte 5 - Objetivos na área de dados\\\n",
    "Parte 6 - Conhecimentos em Engenharia de Dados/DE\\\n",
    "Parte 7 - Conhecimentos em Análise de Dados/DA\\\n",
    "Parte 8 - Conhecimentos em Ciências de Dados/DS\\\n",
    "\n",
    "Cada pergunta é dividida em Parte, Letra da Pergunta, Número da Opção escolhida\n",
    "Exemplo: P3a_1 = Parte 3, pergunta (a), opção (1)"
   ]
  },
  {
   "cell_type": "code",
   "execution_count": 4,
   "id": "e5002b62-d45f-4aa1-a8d7-4a67ae887cc3",
   "metadata": {},
   "outputs": [],
   "source": [
    "selected_question_1 = df.columns[1:15]\n",
    "selected_question_2 = df.columns[2:51]\n",
    "selected_question_3 = df.columns[52:89]\n",
    "selected_question_4 = df.columns[90:189]\n",
    "selected_question_5= df.columns[190:193]\n",
    "selected_question_6= df.columns[194:252]\n",
    "selected_question_7= df.columns[253:302]\n",
    "selected_question_7= df.columns[303:352]"
   ]
  },
  {
   "cell_type": "markdown",
   "id": "9bb4074b-da23-4f6c-904e-d851459e5600",
   "metadata": {},
   "source": [
    "#### Quest 1"
   ]
  },
  {
   "cell_type": "code",
   "execution_count": 5,
   "id": "d0a2ced6-a472-46ac-aea6-2f74692086d1",
   "metadata": {},
   "outputs": [
    {
     "data": {
      "text/html": [
       "<div>\n",
       "<style scoped>\n",
       "    .dataframe tbody tr th:only-of-type {\n",
       "        vertical-align: middle;\n",
       "    }\n",
       "\n",
       "    .dataframe tbody tr th {\n",
       "        vertical-align: top;\n",
       "    }\n",
       "\n",
       "    .dataframe thead th {\n",
       "        text-align: right;\n",
       "    }\n",
       "</style>\n",
       "<table border=\"1\" class=\"dataframe\">\n",
       "  <thead>\n",
       "    <tr style=\"text-align: right;\">\n",
       "      <th></th>\n",
       "      <th>Idade</th>\n",
       "      <th>Faixa idade</th>\n",
       "      <th>Genero</th>\n",
       "      <th>Cor/raca/etnia</th>\n",
       "      <th>PCD</th>\n",
       "      <th>experiencia_profissional_prejudicada</th>\n",
       "      <th>aspectos_prejudicados</th>\n",
       "      <th>vive_no_brasil</th>\n",
       "      <th>Estado onde mora</th>\n",
       "      <th>uf onde mora</th>\n",
       "      <th>Regiao onde mora</th>\n",
       "      <th>Mudou de Estado?</th>\n",
       "      <th>Regiao de origem</th>\n",
       "      <th>Nivel de Ensino</th>\n",
       "    </tr>\n",
       "  </thead>\n",
       "  <tbody>\n",
       "    <tr>\n",
       "      <th>0</th>\n",
       "      <td>39.0</td>\n",
       "      <td>35-39</td>\n",
       "      <td>Masculino</td>\n",
       "      <td>Parda</td>\n",
       "      <td>Não</td>\n",
       "      <td>Não acredito que minha experiência profissiona...</td>\n",
       "      <td>NaN</td>\n",
       "      <td>True</td>\n",
       "      <td>Distrito Federal (DF)</td>\n",
       "      <td>DF</td>\n",
       "      <td>Centro-oeste</td>\n",
       "      <td>False</td>\n",
       "      <td>Sudeste</td>\n",
       "      <td>Pós-graduação</td>\n",
       "    </tr>\n",
       "    <tr>\n",
       "      <th>1</th>\n",
       "      <td>32.0</td>\n",
       "      <td>30-34</td>\n",
       "      <td>Masculino</td>\n",
       "      <td>Parda</td>\n",
       "      <td>Não</td>\n",
       "      <td>Sim, acredito que a minha a experiência profis...</td>\n",
       "      <td>Aprovação em processos seletivos/entrevistas</td>\n",
       "      <td>True</td>\n",
       "      <td>Pará (PA)</td>\n",
       "      <td>PA</td>\n",
       "      <td>Norte</td>\n",
       "      <td>True</td>\n",
       "      <td>NaN</td>\n",
       "      <td>Graduação/Bacharelado</td>\n",
       "    </tr>\n",
       "    <tr>\n",
       "      <th>2</th>\n",
       "      <td>53.0</td>\n",
       "      <td>50-54</td>\n",
       "      <td>Masculino</td>\n",
       "      <td>Branca</td>\n",
       "      <td>Não</td>\n",
       "      <td>NaN</td>\n",
       "      <td>NaN</td>\n",
       "      <td>True</td>\n",
       "      <td>Distrito Federal (DF)</td>\n",
       "      <td>DF</td>\n",
       "      <td>Centro-oeste</td>\n",
       "      <td>False</td>\n",
       "      <td>Sul</td>\n",
       "      <td>Pós-graduação</td>\n",
       "    </tr>\n",
       "  </tbody>\n",
       "</table>\n",
       "</div>"
      ],
      "text/plain": [
       "   Idade Faixa idade     Genero Cor/raca/etnia  PCD  \\\n",
       "0   39.0       35-39  Masculino          Parda  Não   \n",
       "1   32.0       30-34  Masculino          Parda  Não   \n",
       "2   53.0       50-54  Masculino         Branca  Não   \n",
       "\n",
       "                experiencia_profissional_prejudicada  \\\n",
       "0  Não acredito que minha experiência profissiona...   \n",
       "1  Sim, acredito que a minha a experiência profis...   \n",
       "2                                                NaN   \n",
       "\n",
       "                          aspectos_prejudicados  vive_no_brasil  \\\n",
       "0                                           NaN            True   \n",
       "1  Aprovação em processos seletivos/entrevistas            True   \n",
       "2                                           NaN            True   \n",
       "\n",
       "        Estado onde mora uf onde mora Regiao onde mora Mudou de Estado?  \\\n",
       "0  Distrito Federal (DF)           DF     Centro-oeste            False   \n",
       "1              Pará (PA)           PA            Norte             True   \n",
       "2  Distrito Federal (DF)           DF     Centro-oeste            False   \n",
       "\n",
       "  Regiao de origem        Nivel de Ensino  \n",
       "0          Sudeste          Pós-graduação  \n",
       "1              NaN  Graduação/Bacharelado  \n",
       "2              Sul          Pós-graduação  "
      ]
     },
     "execution_count": 5,
     "metadata": {},
     "output_type": "execute_result"
    }
   ],
   "source": [
    "df_quest_1 = df[selected_question_1]\n",
    "df_quest_1.head(3)"
   ]
  },
  {
   "cell_type": "code",
   "execution_count": 6,
   "id": "9799695d-15a5-47a6-a9f7-7c8eb759280c",
   "metadata": {},
   "outputs": [
    {
     "name": "stdout",
     "output_type": "stream",
     "text": [
      "<class 'pandas.core.series.Series'>\n",
      "RangeIndex: 4271 entries, 0 to 4270\n",
      "Series name: PCD\n",
      "Non-Null Count  Dtype \n",
      "--------------  ----- \n",
      "4271 non-null   object\n",
      "dtypes: object(1)\n",
      "memory usage: 33.5+ KB\n"
     ]
    }
   ],
   "source": [
    "df_quest_1['PCD'].info()"
   ]
  },
  {
   "cell_type": "code",
   "execution_count": 7,
   "id": "6ca1c5c6-ce0c-4323-8480-c39c0dc0b863",
   "metadata": {},
   "outputs": [
    {
     "name": "stdout",
     "output_type": "stream",
     "text": [
      "<class 'pandas.core.series.Series'>\n",
      "RangeIndex: 4271 entries, 0 to 4270\n",
      "Series name: PCD_new\n",
      "Non-Null Count  Dtype\n",
      "--------------  -----\n",
      "4271 non-null   int64\n",
      "dtypes: int64(1)\n",
      "memory usage: 33.5 KB\n"
     ]
    },
    {
     "name": "stderr",
     "output_type": "stream",
     "text": [
      "/tmp/ipykernel_37114/118842729.py:1: SettingWithCopyWarning: \n",
      "A value is trying to be set on a copy of a slice from a DataFrame.\n",
      "Try using .loc[row_indexer,col_indexer] = value instead\n",
      "\n",
      "See the caveats in the documentation: https://pandas.pydata.org/pandas-docs/stable/user_guide/indexing.html#returning-a-view-versus-a-copy\n",
      "  df_quest_1['PCD_new'] = df_quest_1['PCD'].map({'Sim': 1, 'Não': 0, 'Prefiro não informar': 0})\n"
     ]
    }
   ],
   "source": [
    "df_quest_1['PCD_new'] = df_quest_1['PCD'].map({'Sim': 1, 'Não': 0, 'Prefiro não informar': 0})\n",
    "df_quest_1 = df_quest_1.astype({'PCD_new':'int'})\n",
    "df_quest_1['PCD_new'].info()"
   ]
  },
  {
   "cell_type": "code",
   "execution_count": 8,
   "id": "14a87fab-5471-4f3b-b555-e7408d9ea2a4",
   "metadata": {},
   "outputs": [
    {
     "data": {
      "text/plain": [
       "array(['Parda', 'Branca', 'Amarela', 'Preta', 'Prefiro não informar',\n",
       "       'Indígena', 'Outra'], dtype=object)"
      ]
     },
     "execution_count": 8,
     "metadata": {},
     "output_type": "execute_result"
    }
   ],
   "source": [
    "df_quest_1['Cor/raca/etnia'].unique()"
   ]
  },
  {
   "cell_type": "markdown",
   "id": "abb0b1fc-8f18-4d3f-ae30-09fffa43dec7",
   "metadata": {},
   "source": [
    "#### Quantidade de PCD por Cor/raca/etnia\n",
    "Temos que aproximadamente 1% da amostra entre pretos, pardos e brancos são PCDs.\n",
    "\n",
    "Pessoas Amarelas, Indígenas e outra\\Não informar, não apresentam pessoas PCDs."
   ]
  },
  {
   "cell_type": "code",
   "execution_count": 9,
   "id": "7cb423d6-2d12-49d4-bea6-d493a4d3c78b",
   "metadata": {},
   "outputs": [
    {
     "data": {
      "text/html": [
       "<div>\n",
       "<style scoped>\n",
       "    .dataframe tbody tr th:only-of-type {\n",
       "        vertical-align: middle;\n",
       "    }\n",
       "\n",
       "    .dataframe tbody tr th {\n",
       "        vertical-align: top;\n",
       "    }\n",
       "\n",
       "    .dataframe thead th {\n",
       "        text-align: right;\n",
       "    }\n",
       "</style>\n",
       "<table border=\"1\" class=\"dataframe\">\n",
       "  <thead>\n",
       "    <tr style=\"text-align: right;\">\n",
       "      <th></th>\n",
       "      <th>PCD_new</th>\n",
       "    </tr>\n",
       "    <tr>\n",
       "      <th>Cor/raca/etnia</th>\n",
       "      <th></th>\n",
       "    </tr>\n",
       "  </thead>\n",
       "  <tbody>\n",
       "    <tr>\n",
       "      <th>Preta</th>\n",
       "      <td>0.017182</td>\n",
       "    </tr>\n",
       "    <tr>\n",
       "      <th>Parda</th>\n",
       "      <td>0.017078</td>\n",
       "    </tr>\n",
       "    <tr>\n",
       "      <th>Branca</th>\n",
       "      <td>0.011297</td>\n",
       "    </tr>\n",
       "    <tr>\n",
       "      <th>Amarela</th>\n",
       "      <td>0.000000</td>\n",
       "    </tr>\n",
       "    <tr>\n",
       "      <th>Indígena</th>\n",
       "      <td>0.000000</td>\n",
       "    </tr>\n",
       "    <tr>\n",
       "      <th>Outra</th>\n",
       "      <td>0.000000</td>\n",
       "    </tr>\n",
       "    <tr>\n",
       "      <th>Prefiro não informar</th>\n",
       "      <td>0.000000</td>\n",
       "    </tr>\n",
       "  </tbody>\n",
       "</table>\n",
       "</div>"
      ],
      "text/plain": [
       "                       PCD_new\n",
       "Cor/raca/etnia                \n",
       "Preta                 0.017182\n",
       "Parda                 0.017078\n",
       "Branca                0.011297\n",
       "Amarela               0.000000\n",
       "Indígena              0.000000\n",
       "Outra                 0.000000\n",
       "Prefiro não informar  0.000000"
      ]
     },
     "execution_count": 9,
     "metadata": {},
     "output_type": "execute_result"
    }
   ],
   "source": [
    "df_quest_1[[\"Cor/raca/etnia\", \"PCD_new\"]].groupby(['Cor/raca/etnia']).mean().sort_values(by='PCD_new', ascending=False)"
   ]
  },
  {
   "cell_type": "code",
   "execution_count": 10,
   "id": "367a0073-92e5-4739-9692-0fe4ea33bb89",
   "metadata": {},
   "outputs": [
    {
     "data": {
      "text/plain": [
       "array(['Masculino', 'Feminino', nan, 'Prefiro não informar'], dtype=object)"
      ]
     },
     "execution_count": 10,
     "metadata": {},
     "output_type": "execute_result"
    }
   ],
   "source": [
    "df_quest_1['Genero'].unique()"
   ]
  },
  {
   "cell_type": "code",
   "execution_count": 17,
   "id": "829cb63d-6c5b-4d4d-bb9e-0abbfc93be7d",
   "metadata": {
    "scrolled": true
   },
   "outputs": [
    {
     "data": {
      "text/html": [
       "<div>\n",
       "<style scoped>\n",
       "    .dataframe tbody tr th:only-of-type {\n",
       "        vertical-align: middle;\n",
       "    }\n",
       "\n",
       "    .dataframe tbody tr th {\n",
       "        vertical-align: top;\n",
       "    }\n",
       "\n",
       "    .dataframe thead th {\n",
       "        text-align: right;\n",
       "    }\n",
       "</style>\n",
       "<table border=\"1\" class=\"dataframe\">\n",
       "  <thead>\n",
       "    <tr style=\"text-align: right;\">\n",
       "      <th></th>\n",
       "      <th>Idade</th>\n",
       "      <th>Faixa idade</th>\n",
       "      <th>Genero</th>\n",
       "      <th>Cor/raca/etnia</th>\n",
       "      <th>PCD</th>\n",
       "      <th>experiencia_profissional_prejudicada</th>\n",
       "      <th>aspectos_prejudicados</th>\n",
       "      <th>vive_no_brasil</th>\n",
       "      <th>Estado onde mora</th>\n",
       "      <th>uf onde mora</th>\n",
       "      <th>Regiao onde mora</th>\n",
       "      <th>Mudou de Estado?</th>\n",
       "      <th>Regiao de origem</th>\n",
       "      <th>Nivel de Ensino</th>\n",
       "      <th>PCD_new</th>\n",
       "      <th>Genero_new</th>\n",
       "    </tr>\n",
       "  </thead>\n",
       "  <tbody>\n",
       "    <tr>\n",
       "      <th>0</th>\n",
       "      <td>39.0</td>\n",
       "      <td>35-39</td>\n",
       "      <td>Masculino</td>\n",
       "      <td>Parda</td>\n",
       "      <td>Não</td>\n",
       "      <td>Não acredito que minha experiência profissiona...</td>\n",
       "      <td>NaN</td>\n",
       "      <td>True</td>\n",
       "      <td>Distrito Federal (DF)</td>\n",
       "      <td>DF</td>\n",
       "      <td>Centro-oeste</td>\n",
       "      <td>False</td>\n",
       "      <td>Sudeste</td>\n",
       "      <td>Pós-graduação</td>\n",
       "      <td>0</td>\n",
       "      <td>1.0</td>\n",
       "    </tr>\n",
       "    <tr>\n",
       "      <th>1</th>\n",
       "      <td>32.0</td>\n",
       "      <td>30-34</td>\n",
       "      <td>Masculino</td>\n",
       "      <td>Parda</td>\n",
       "      <td>Não</td>\n",
       "      <td>Sim, acredito que a minha a experiência profis...</td>\n",
       "      <td>Aprovação em processos seletivos/entrevistas</td>\n",
       "      <td>True</td>\n",
       "      <td>Pará (PA)</td>\n",
       "      <td>PA</td>\n",
       "      <td>Norte</td>\n",
       "      <td>True</td>\n",
       "      <td>NaN</td>\n",
       "      <td>Graduação/Bacharelado</td>\n",
       "      <td>0</td>\n",
       "      <td>1.0</td>\n",
       "    </tr>\n",
       "    <tr>\n",
       "      <th>2</th>\n",
       "      <td>53.0</td>\n",
       "      <td>50-54</td>\n",
       "      <td>Masculino</td>\n",
       "      <td>Branca</td>\n",
       "      <td>Não</td>\n",
       "      <td>NaN</td>\n",
       "      <td>NaN</td>\n",
       "      <td>True</td>\n",
       "      <td>Distrito Federal (DF)</td>\n",
       "      <td>DF</td>\n",
       "      <td>Centro-oeste</td>\n",
       "      <td>False</td>\n",
       "      <td>Sul</td>\n",
       "      <td>Pós-graduação</td>\n",
       "      <td>0</td>\n",
       "      <td>1.0</td>\n",
       "    </tr>\n",
       "    <tr>\n",
       "      <th>3</th>\n",
       "      <td>27.0</td>\n",
       "      <td>25-29</td>\n",
       "      <td>Masculino</td>\n",
       "      <td>Branca</td>\n",
       "      <td>Não</td>\n",
       "      <td>NaN</td>\n",
       "      <td>NaN</td>\n",
       "      <td>True</td>\n",
       "      <td>Minas Gerais (MG)</td>\n",
       "      <td>MG</td>\n",
       "      <td>Sudeste</td>\n",
       "      <td>True</td>\n",
       "      <td>NaN</td>\n",
       "      <td>Doutorado ou Phd</td>\n",
       "      <td>0</td>\n",
       "      <td>1.0</td>\n",
       "    </tr>\n",
       "    <tr>\n",
       "      <th>4</th>\n",
       "      <td>46.0</td>\n",
       "      <td>45-49</td>\n",
       "      <td>Feminino</td>\n",
       "      <td>Branca</td>\n",
       "      <td>Não</td>\n",
       "      <td>Não acredito que minha experiência profissiona...</td>\n",
       "      <td>NaN</td>\n",
       "      <td>True</td>\n",
       "      <td>Pará (PA)</td>\n",
       "      <td>PA</td>\n",
       "      <td>Norte</td>\n",
       "      <td>True</td>\n",
       "      <td>NaN</td>\n",
       "      <td>Pós-graduação</td>\n",
       "      <td>0</td>\n",
       "      <td>0.0</td>\n",
       "    </tr>\n",
       "  </tbody>\n",
       "</table>\n",
       "</div>"
      ],
      "text/plain": [
       "   Idade Faixa idade     Genero Cor/raca/etnia  PCD  \\\n",
       "0   39.0       35-39  Masculino          Parda  Não   \n",
       "1   32.0       30-34  Masculino          Parda  Não   \n",
       "2   53.0       50-54  Masculino         Branca  Não   \n",
       "3   27.0       25-29  Masculino         Branca  Não   \n",
       "4   46.0       45-49   Feminino         Branca  Não   \n",
       "\n",
       "                experiencia_profissional_prejudicada  \\\n",
       "0  Não acredito que minha experiência profissiona...   \n",
       "1  Sim, acredito que a minha a experiência profis...   \n",
       "2                                                NaN   \n",
       "3                                                NaN   \n",
       "4  Não acredito que minha experiência profissiona...   \n",
       "\n",
       "                          aspectos_prejudicados  vive_no_brasil  \\\n",
       "0                                           NaN            True   \n",
       "1  Aprovação em processos seletivos/entrevistas            True   \n",
       "2                                           NaN            True   \n",
       "3                                           NaN            True   \n",
       "4                                           NaN            True   \n",
       "\n",
       "        Estado onde mora uf onde mora Regiao onde mora Mudou de Estado?  \\\n",
       "0  Distrito Federal (DF)           DF     Centro-oeste            False   \n",
       "1              Pará (PA)           PA            Norte             True   \n",
       "2  Distrito Federal (DF)           DF     Centro-oeste            False   \n",
       "3      Minas Gerais (MG)           MG          Sudeste             True   \n",
       "4              Pará (PA)           PA            Norte             True   \n",
       "\n",
       "  Regiao de origem        Nivel de Ensino  PCD_new  Genero_new  \n",
       "0          Sudeste          Pós-graduação        0         1.0  \n",
       "1              NaN  Graduação/Bacharelado        0         1.0  \n",
       "2              Sul          Pós-graduação        0         1.0  \n",
       "3              NaN       Doutorado ou Phd        0         1.0  \n",
       "4              NaN          Pós-graduação        0         0.0  "
      ]
     },
     "execution_count": 17,
     "metadata": {},
     "output_type": "execute_result"
    }
   ],
   "source": [
    "df_quest_1['Genero_new'] = df_quest_1['Genero'].map({'Masculino': 1, 'Feminino': 0, 'Prefiro não informar' : np.nan})\n",
    "df_quest_1.head(5)"
   ]
  },
  {
   "cell_type": "code",
   "execution_count": 13,
   "id": "88d37e49-9a3a-4909-9fe9-b735f3328e13",
   "metadata": {},
   "outputs": [
    {
     "data": {
      "text/plain": [
       "array([ True, False])"
      ]
     },
     "execution_count": 13,
     "metadata": {},
     "output_type": "execute_result"
    }
   ],
   "source": [
    "df_quest_1[\"vive_no_brasil\"].unique()"
   ]
  },
  {
   "cell_type": "code",
   "execution_count": 14,
   "id": "f8cb8e38-ad8b-4d29-946b-c24773583f6f",
   "metadata": {},
   "outputs": [
    {
     "data": {
      "text/html": [
       "<div>\n",
       "<style scoped>\n",
       "    .dataframe tbody tr th:only-of-type {\n",
       "        vertical-align: middle;\n",
       "    }\n",
       "\n",
       "    .dataframe tbody tr th {\n",
       "        vertical-align: top;\n",
       "    }\n",
       "\n",
       "    .dataframe thead th {\n",
       "        text-align: right;\n",
       "    }\n",
       "</style>\n",
       "<table border=\"1\" class=\"dataframe\">\n",
       "  <thead>\n",
       "    <tr style=\"text-align: right;\">\n",
       "      <th></th>\n",
       "      <th>vive_no_brasil</th>\n",
       "    </tr>\n",
       "    <tr>\n",
       "      <th>Cor/raca/etnia</th>\n",
       "      <th></th>\n",
       "    </tr>\n",
       "  </thead>\n",
       "  <tbody>\n",
       "    <tr>\n",
       "      <th>Branca</th>\n",
       "      <td>0.978863</td>\n",
       "    </tr>\n",
       "    <tr>\n",
       "      <th>Parda</th>\n",
       "      <td>0.976281</td>\n",
       "    </tr>\n",
       "    <tr>\n",
       "      <th>Preta</th>\n",
       "      <td>0.972509</td>\n",
       "    </tr>\n",
       "    <tr>\n",
       "      <th>Prefiro não informar</th>\n",
       "      <td>0.961538</td>\n",
       "    </tr>\n",
       "    <tr>\n",
       "      <th>Amarela</th>\n",
       "      <td>0.960938</td>\n",
       "    </tr>\n",
       "    <tr>\n",
       "      <th>Indígena</th>\n",
       "      <td>0.909091</td>\n",
       "    </tr>\n",
       "    <tr>\n",
       "      <th>Outra</th>\n",
       "      <td>0.882353</td>\n",
       "    </tr>\n",
       "  </tbody>\n",
       "</table>\n",
       "</div>"
      ],
      "text/plain": [
       "                      vive_no_brasil\n",
       "Cor/raca/etnia                      \n",
       "Branca                      0.978863\n",
       "Parda                       0.976281\n",
       "Preta                       0.972509\n",
       "Prefiro não informar        0.961538\n",
       "Amarela                     0.960938\n",
       "Indígena                    0.909091\n",
       "Outra                       0.882353"
      ]
     },
     "execution_count": 14,
     "metadata": {},
     "output_type": "execute_result"
    }
   ],
   "source": [
    "df_quest_1[[\"Cor/raca/etnia\", \"vive_no_brasil\"]].groupby(['Cor/raca/etnia']).mean().sort_values(by='vive_no_brasil', ascending=False)"
   ]
  },
  {
   "cell_type": "code",
   "execution_count": 15,
   "id": "e9132c16-1bf0-444c-9176-4f9dcba9f0d3",
   "metadata": {},
   "outputs": [
    {
     "data": {
      "text/html": [
       "<div>\n",
       "<style scoped>\n",
       "    .dataframe tbody tr th:only-of-type {\n",
       "        vertical-align: middle;\n",
       "    }\n",
       "\n",
       "    .dataframe tbody tr th {\n",
       "        vertical-align: top;\n",
       "    }\n",
       "\n",
       "    .dataframe thead th {\n",
       "        text-align: right;\n",
       "    }\n",
       "</style>\n",
       "<table border=\"1\" class=\"dataframe\">\n",
       "  <thead>\n",
       "    <tr style=\"text-align: right;\">\n",
       "      <th></th>\n",
       "      <th>Genero_new</th>\n",
       "    </tr>\n",
       "    <tr>\n",
       "      <th>Cor/raca/etnia</th>\n",
       "      <th></th>\n",
       "    </tr>\n",
       "  </thead>\n",
       "  <tbody>\n",
       "    <tr>\n",
       "      <th>Indígena</th>\n",
       "      <td>0.800000</td>\n",
       "    </tr>\n",
       "    <tr>\n",
       "      <th>Branca</th>\n",
       "      <td>0.760965</td>\n",
       "    </tr>\n",
       "    <tr>\n",
       "      <th>Parda</th>\n",
       "      <td>0.742857</td>\n",
       "    </tr>\n",
       "    <tr>\n",
       "      <th>Prefiro não informar</th>\n",
       "      <td>0.739130</td>\n",
       "    </tr>\n",
       "    <tr>\n",
       "      <th>Preta</th>\n",
       "      <td>0.717770</td>\n",
       "    </tr>\n",
       "    <tr>\n",
       "      <th>Amarela</th>\n",
       "      <td>0.703125</td>\n",
       "    </tr>\n",
       "    <tr>\n",
       "      <th>Outra</th>\n",
       "      <td>0.687500</td>\n",
       "    </tr>\n",
       "  </tbody>\n",
       "</table>\n",
       "</div>"
      ],
      "text/plain": [
       "                      Genero_new\n",
       "Cor/raca/etnia                  \n",
       "Indígena                0.800000\n",
       "Branca                  0.760965\n",
       "Parda                   0.742857\n",
       "Prefiro não informar    0.739130\n",
       "Preta                   0.717770\n",
       "Amarela                 0.703125\n",
       "Outra                   0.687500"
      ]
     },
     "execution_count": 15,
     "metadata": {},
     "output_type": "execute_result"
    }
   ],
   "source": [
    "df_quest_1[[\"Cor/raca/etnia\", \"Genero_new\"]].groupby(['Cor/raca/etnia']).mean().sort_values(by='Genero_new', ascending=False)"
   ]
  },
  {
   "cell_type": "code",
   "execution_count": 21,
   "id": "580f8b76-3cb6-418a-a7be-f805b7a57012",
   "metadata": {},
   "outputs": [
    {
     "data": {
      "text/plain": [
       "array(['Pós-graduação', 'Graduação/Bacharelado', 'Doutorado ou Phd',\n",
       "       'Estudante de Graduação', 'Mestrado', 'Não tenho graduação formal',\n",
       "       'Prefiro não informar'], dtype=object)"
      ]
     },
     "execution_count": 21,
     "metadata": {},
     "output_type": "execute_result"
    }
   ],
   "source": [
    "df_quest_1[\"Nivel de Ensino\"].unique()"
   ]
  },
  {
   "cell_type": "code",
   "execution_count": null,
   "id": "f29c60f4",
   "metadata": {},
   "outputs": [],
   "source": [
    "df"
   ]
  }
 ],
 "metadata": {
  "kernelspec": {
   "display_name": "Python 3 (ipykernel)",
   "language": "python",
   "name": "python3"
  },
  "language_info": {
   "codemirror_mode": {
    "name": "ipython",
    "version": 3
   },
   "file_extension": ".py",
   "mimetype": "text/x-python",
   "name": "python",
   "nbconvert_exporter": "python",
   "pygments_lexer": "ipython3",
   "version": "3.10.12"
  }
 },
 "nbformat": 4,
 "nbformat_minor": 5
}
