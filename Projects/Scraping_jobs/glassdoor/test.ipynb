{
 "cells": [
  {
   "cell_type": "code",
   "execution_count": 26,
   "metadata": {},
   "outputs": [],
   "source": [
    "from selenium.common.exceptions import NoSuchElementException, ElementClickInterceptedException\n",
    "from selenium import webdriver\n",
    "import time\n",
    "import pandas as pd"
   ]
  },
  {
   "cell_type": "code",
   "execution_count": 27,
   "metadata": {},
   "outputs": [],
   "source": [
    "path_chrome = \"/usr/bin/google-chrome-stable\""
   ]
  },
  {
   "cell_type": "code",
   "execution_count": 28,
   "metadata": {},
   "outputs": [
    {
     "ename": "TypeError",
     "evalue": "WebDriver.__init__() got an unexpected keyword argument 'executable_path'",
     "output_type": "error",
     "traceback": [
      "\u001b[0;31m---------------------------------------------------------------------------\u001b[0m",
      "\u001b[0;31mTypeError\u001b[0m                                 Traceback (most recent call last)",
      "Cell \u001b[0;32mIn[28], line 1\u001b[0m\n\u001b[0;32m----> 1\u001b[0m driver \u001b[39m=\u001b[39m webdriver\u001b[39m.\u001b[39;49mChrome(executable_path\u001b[39m=\u001b[39;49mpath_chrome)\n\u001b[1;32m      2\u001b[0m driver\u001b[39m.\u001b[39mset_window_size(\u001b[39m1120\u001b[39m, \u001b[39m1000\u001b[39m)\n",
      "\u001b[0;31mTypeError\u001b[0m: WebDriver.__init__() got an unexpected keyword argument 'executable_path'"
     ]
    }
   ],
   "source": [
    "driver = webdriver.Chrome(executable_path=path_chrome)\n",
    "driver.set_window_size(1120, 1000)"
   ]
  },
  {
   "cell_type": "code",
   "execution_count": null,
   "metadata": {},
   "outputs": [
    {
     "ename": "TypeError",
     "evalue": "WebDriver.__init__() got an unexpected keyword argument 'executable_path'",
     "output_type": "error",
     "traceback": [
      "\u001b[0;31m---------------------------------------------------------------------------\u001b[0m",
      "\u001b[0;31mTypeError\u001b[0m                                 Traceback (most recent call last)",
      "Cell \u001b[0;32mIn[13], line 5\u001b[0m\n\u001b[1;32m      3\u001b[0m \u001b[39m# path = \"/usr/bin/google-chrome-stable\"\u001b[39;00m\n\u001b[1;32m      4\u001b[0m path \u001b[39m=\u001b[39m \u001b[39m\"\u001b[39m\u001b[39m/usr/local/bin/chromedriver\u001b[39m\u001b[39m\"\u001b[39m\n\u001b[0;32m----> 5\u001b[0m df \u001b[39m=\u001b[39m gs\u001b[39m.\u001b[39;49mget_jobs(search, \u001b[39m5\u001b[39;49m, \u001b[39mFalse\u001b[39;49;00m, path, \u001b[39m15\u001b[39;49m)\n\u001b[1;32m      6\u001b[0m df\n",
      "File \u001b[0;32m~/git/DataScientists/Scraping_jobs/glassdoor/glassdoor_scraping.py:17\u001b[0m, in \u001b[0;36mget_jobs\u001b[0;34m(keyword, num_jobs, verbose, path_chrome, slp_time)\u001b[0m\n\u001b[1;32m     11\u001b[0m options \u001b[39m=\u001b[39m webdriver\u001b[39m.\u001b[39mChromeOptions()\n\u001b[1;32m     13\u001b[0m \u001b[39m#Uncomment the line below if you'd like to scrape without a new Chrome window every time.\u001b[39;00m\n\u001b[1;32m     14\u001b[0m \u001b[39m#options.add_argument('headless')\u001b[39;00m\n\u001b[1;32m     15\u001b[0m \n\u001b[1;32m     16\u001b[0m \u001b[39m#Change the path to where chromedriver is in your home folder.\u001b[39;00m\n\u001b[0;32m---> 17\u001b[0m driver \u001b[39m=\u001b[39m webdriver\u001b[39m.\u001b[39;49mChrome(executable_path\u001b[39m=\u001b[39;49mpath_chrome, options\u001b[39m=\u001b[39;49moptions)\n\u001b[1;32m     18\u001b[0m driver\u001b[39m.\u001b[39mset_window_size(\u001b[39m1120\u001b[39m, \u001b[39m1000\u001b[39m)\n\u001b[1;32m     20\u001b[0m url \u001b[39m=\u001b[39m \u001b[39m'\u001b[39m\u001b[39mhttps://www.glassdoor.com/Job/jobs.htm?sc.keyword=\u001b[39m\u001b[39m\"\u001b[39m\u001b[39m'\u001b[39m \u001b[39m+\u001b[39m keyword \u001b[39m+\u001b[39m \u001b[39m'\u001b[39m\u001b[39m\"\u001b[39m\u001b[39m&locT=C&locId=1147401&locKeyword=San\u001b[39m\u001b[39m%20F\u001b[39;00m\u001b[39mrancisco,\u001b[39m\u001b[39m%\u001b[39m\u001b[39m20CA&jobType=all&fromAge=-1&minSalary=0&includeNoSalaryJobs=true&radius=100&cityId=-1&minRating=0.0&industryId=-1&sgocId=-1&seniorityType=all&companyId=-1&employerSizes=0&applicationType=0&remoteWorkType=0\u001b[39m\u001b[39m'\u001b[39m\n",
      "\u001b[0;31mTypeError\u001b[0m: WebDriver.__init__() got an unexpected keyword argument 'executable_path'"
     ]
    }
   ],
   "source": []
  }
 ],
 "metadata": {
  "kernelspec": {
   "display_name": "Python 3",
   "language": "python",
   "name": "python3"
  },
  "language_info": {
   "codemirror_mode": {
    "name": "ipython",
    "version": 3
   },
   "file_extension": ".py",
   "mimetype": "text/x-python",
   "name": "python",
   "nbconvert_exporter": "python",
   "pygments_lexer": "ipython3",
   "version": "3.10.6"
  },
  "orig_nbformat": 4
 },
 "nbformat": 4,
 "nbformat_minor": 2
}
