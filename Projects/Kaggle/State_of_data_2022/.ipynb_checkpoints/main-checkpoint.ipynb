{
 "cells": [
  {
   "cell_type": "code",
   "execution_count": 40,
   "id": "5e482958-2f65-4682-92d2-5588a2a2a7a7",
   "metadata": {},
   "outputs": [],
   "source": [
    "import pandas as pd\n",
    "import numpy as np\n",
    "import matplotlib.pyplot as plt\n",
    "import seaborn as sns\n",
    "import re\n",
    "\n",
    "sns.set_style('whitegrid')"
   ]
  },
  {
   "cell_type": "markdown",
   "id": "5720e7cd-e50e-4149-bf7a-33a1cf4b53f3",
   "metadata": {},
   "source": [
    "#### Input and frist analysis data"
   ]
  },
  {
   "cell_type": "code",
   "execution_count": 41,
   "id": "7e71919b-fd03-45f2-8192-4fe1f827654f",
   "metadata": {},
   "outputs": [],
   "source": [
    "df = pd.read_csv('data/State_of_data_2022.csv')"
   ]
  },
  {
   "cell_type": "code",
   "execution_count": 42,
   "id": "944c4f64-6b36-4db0-881e-7680a73ce23f",
   "metadata": {},
   "outputs": [
    {
     "name": "stdout",
     "output_type": "stream",
     "text": [
      "<class 'pandas.core.frame.DataFrame'>\n",
      "RangeIndex: 4271 entries, 0 to 4270\n",
      "Columns: 353 entries, ('P0', 'id') to ('P8_d_11 ', 'Criando e mantendo a infra que meus modelos e soluções rodam (clusters, servidores, API, containers, etc.)')\n",
      "dtypes: bool(1), float64(284), object(68)\n",
      "memory usage: 11.5+ MB\n"
     ]
    }
   ],
   "source": [
    "df.info()"
   ]
  },
  {
   "cell_type": "code",
   "execution_count": 43,
   "id": "5c8e3822-580f-4307-bfca-2903228c056c",
   "metadata": {},
   "outputs": [
    {
     "data": {
      "text/plain": [
       "('P0', 'id')                                                                                                                     0\n",
       "('P1_a ', 'Idade')                                                                                                              74\n",
       "('P1_a_1 ', 'Faixa idade')                                                                                                       0\n",
       "('P1_b ', 'Genero')                                                                                                              9\n",
       "('P1_c ', 'Cor/raca/etnia')                                                                                                      0\n",
       "                                                                                                                              ... \n",
       "('P8_d_7 ', 'Realizando construções de dashboards em ferramentas de BI como PowerBI, Tableau, Looker, Qlik, etc.')            3642\n",
       "('P8_d_8 ', 'Utilizando ferramentas avançadas de estatística como SAS, SPSS, Stata etc, para realizar análises.')             3642\n",
       "('P8_d_9 ', 'Criando e dando manutenção em ETLs, DAGs e automações de pipelines de dados.')                                   3642\n",
       "('P8_d_10 ', 'Criando e gerenciando soluções de Feature Store e cultura de MLOps.')                                           3642\n",
       "('P8_d_11 ', 'Criando e mantendo a infra que meus modelos e soluções rodam (clusters, servidores, API, containers, etc.)')    3642\n",
       "Length: 353, dtype: int64"
      ]
     },
     "execution_count": 43,
     "metadata": {},
     "output_type": "execute_result"
    }
   ],
   "source": [
    "df.isnull().sum()"
   ]
  },
  {
   "cell_type": "markdown",
   "id": "6d3b2552-7c35-4ef3-a434-2e6973ed0478",
   "metadata": {},
   "source": [
    "#### Fix columns names"
   ]
  },
  {
   "cell_type": "code",
   "execution_count": 44,
   "id": "aca305d3-100a-4e4e-89a3-aa1b2e2b6e71",
   "metadata": {},
   "outputs": [],
   "source": [
    "columns = []\n",
    "for column in df.keys():\n",
    "    columns.append(column)"
   ]
  },
  {
   "cell_type": "code",
   "execution_count": 46,
   "id": "557301c8-61c2-4a54-a808-cdb5b4581f7f",
   "metadata": {},
   "outputs": [],
   "source": [
    "# Use uma expressão regular para extrair o texto após a vírgula\n",
    "pattern = r\"'\\s*,\\s*'(.+?)'\"\n",
    "\n",
    "new_column_names = [re.search(pattern, col).group(1) for col in columns]\n",
    "# Criar um dicionário mapeando os nomes antigos para os novos\n",
    "old_column_names = df.columns.tolist()\n",
    "column_mapping = dict(zip(old_column_names, new_column_names))\n",
    "\n",
    "# Renomear as colunas do DataFrame\n",
    "df.rename(columns=column_mapping, inplace=True)"
   ]
  },
  {
   "cell_type": "markdown",
   "id": "6defad1c-5e5a-49e2-8ed4-56bf7947e3e1",
   "metadata": {},
   "source": [
    "#### df demography"
   ]
  },
  {
   "cell_type": "code",
   "execution_count": 47,
   "id": "d0a2ced6-a472-46ac-aea6-2f74692086d1",
   "metadata": {},
   "outputs": [
    {
     "data": {
      "text/html": [
       "<div>\n",
       "<style scoped>\n",
       "    .dataframe tbody tr th:only-of-type {\n",
       "        vertical-align: middle;\n",
       "    }\n",
       "\n",
       "    .dataframe tbody tr th {\n",
       "        vertical-align: top;\n",
       "    }\n",
       "\n",
       "    .dataframe thead th {\n",
       "        text-align: right;\n",
       "    }\n",
       "</style>\n",
       "<table border=\"1\" class=\"dataframe\">\n",
       "  <thead>\n",
       "    <tr style=\"text-align: right;\">\n",
       "      <th></th>\n",
       "      <th>Idade</th>\n",
       "      <th>Faixa idade</th>\n",
       "      <th>Genero</th>\n",
       "      <th>Cor/raca/etnia</th>\n",
       "    </tr>\n",
       "  </thead>\n",
       "  <tbody>\n",
       "    <tr>\n",
       "      <th>0</th>\n",
       "      <td>39.0</td>\n",
       "      <td>35-39</td>\n",
       "      <td>Masculino</td>\n",
       "      <td>Parda</td>\n",
       "    </tr>\n",
       "    <tr>\n",
       "      <th>1</th>\n",
       "      <td>32.0</td>\n",
       "      <td>30-34</td>\n",
       "      <td>Masculino</td>\n",
       "      <td>Parda</td>\n",
       "    </tr>\n",
       "    <tr>\n",
       "      <th>2</th>\n",
       "      <td>53.0</td>\n",
       "      <td>50-54</td>\n",
       "      <td>Masculino</td>\n",
       "      <td>Branca</td>\n",
       "    </tr>\n",
       "    <tr>\n",
       "      <th>3</th>\n",
       "      <td>27.0</td>\n",
       "      <td>25-29</td>\n",
       "      <td>Masculino</td>\n",
       "      <td>Branca</td>\n",
       "    </tr>\n",
       "    <tr>\n",
       "      <th>4</th>\n",
       "      <td>46.0</td>\n",
       "      <td>45-49</td>\n",
       "      <td>Feminino</td>\n",
       "      <td>Branca</td>\n",
       "    </tr>\n",
       "    <tr>\n",
       "      <th>...</th>\n",
       "      <td>...</td>\n",
       "      <td>...</td>\n",
       "      <td>...</td>\n",
       "      <td>...</td>\n",
       "    </tr>\n",
       "    <tr>\n",
       "      <th>4266</th>\n",
       "      <td>26.0</td>\n",
       "      <td>25-29</td>\n",
       "      <td>Masculino</td>\n",
       "      <td>Branca</td>\n",
       "    </tr>\n",
       "    <tr>\n",
       "      <th>4267</th>\n",
       "      <td>30.0</td>\n",
       "      <td>30-34</td>\n",
       "      <td>Feminino</td>\n",
       "      <td>Branca</td>\n",
       "    </tr>\n",
       "    <tr>\n",
       "      <th>4268</th>\n",
       "      <td>29.0</td>\n",
       "      <td>25-29</td>\n",
       "      <td>Masculino</td>\n",
       "      <td>Branca</td>\n",
       "    </tr>\n",
       "    <tr>\n",
       "      <th>4269</th>\n",
       "      <td>NaN</td>\n",
       "      <td>17-21</td>\n",
       "      <td>Masculino</td>\n",
       "      <td>Branca</td>\n",
       "    </tr>\n",
       "    <tr>\n",
       "      <th>4270</th>\n",
       "      <td>24.0</td>\n",
       "      <td>22-24</td>\n",
       "      <td>Masculino</td>\n",
       "      <td>Branca</td>\n",
       "    </tr>\n",
       "  </tbody>\n",
       "</table>\n",
       "<p>4271 rows × 4 columns</p>\n",
       "</div>"
      ],
      "text/plain": [
       "      Idade Faixa idade     Genero Cor/raca/etnia\n",
       "0      39.0       35-39  Masculino          Parda\n",
       "1      32.0       30-34  Masculino          Parda\n",
       "2      53.0       50-54  Masculino         Branca\n",
       "3      27.0       25-29  Masculino         Branca\n",
       "4      46.0       45-49   Feminino         Branca\n",
       "...     ...         ...        ...            ...\n",
       "4266   26.0       25-29  Masculino         Branca\n",
       "4267   30.0       30-34   Feminino         Branca\n",
       "4268   29.0       25-29  Masculino         Branca\n",
       "4269    NaN       17-21  Masculino         Branca\n",
       "4270   24.0       22-24  Masculino         Branca\n",
       "\n",
       "[4271 rows x 4 columns]"
      ]
     },
     "execution_count": 47,
     "metadata": {},
     "output_type": "execute_result"
    }
   ],
   "source": [
    "selected_columns = df.columns[1:5]\n",
    "df_demography = df[selected_columns]\n",
    "df_demography"
   ]
  },
  {
   "cell_type": "code",
   "execution_count": 48,
   "id": "579deb3d-7003-4e8c-a399-ba427a4f66a8",
   "metadata": {},
   "outputs": [
    {
     "name": "stdout",
     "output_type": "stream",
     "text": [
      "<class 'pandas.core.frame.DataFrame'>\n",
      "RangeIndex: 4271 entries, 0 to 4270\n",
      "Data columns (total 4 columns):\n",
      " #   Column          Non-Null Count  Dtype  \n",
      "---  ------          --------------  -----  \n",
      " 0   Idade           4197 non-null   float64\n",
      " 1   Faixa idade     4271 non-null   object \n",
      " 2   Genero          4262 non-null   object \n",
      " 3   Cor/raca/etnia  4271 non-null   object \n",
      "dtypes: float64(1), object(3)\n",
      "memory usage: 133.6+ KB\n"
     ]
    }
   ],
   "source": [
    "df_demography.info()"
   ]
  },
  {
   "cell_type": "code",
   "execution_count": null,
   "id": "44c4c57f-ba5b-46af-9f4b-c01dfb72b9be",
   "metadata": {},
   "outputs": [],
   "source": []
  }
 ],
 "metadata": {
  "kernelspec": {
   "display_name": "Python 3 (ipykernel)",
   "language": "python",
   "name": "python3"
  },
  "language_info": {
   "codemirror_mode": {
    "name": "ipython",
    "version": 3
   },
   "file_extension": ".py",
   "mimetype": "text/x-python",
   "name": "python",
   "nbconvert_exporter": "python",
   "pygments_lexer": "ipython3",
   "version": "3.11.4"
  }
 },
 "nbformat": 4,
 "nbformat_minor": 5
}
