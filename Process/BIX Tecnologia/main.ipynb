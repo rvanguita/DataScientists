{
 "cells": [
  {
   "cell_type": "code",
   "execution_count": 1,
   "metadata": {},
   "outputs": [],
   "source": [
    "import pandas as pd\n",
    "import numpy as np\n",
    "import matplotlib.pyplot as plt\n",
    "import seaborn as sns\n",
    "from datetime import datetime, timedelta\n",
    "\n",
    "sns.set_style('whitegrid')"
   ]
  },
  {
   "cell_type": "code",
   "execution_count": 2,
   "metadata": {},
   "outputs": [],
   "source": [
    "from sklearn.linear_model import LinearRegression"
   ]
  },
  {
   "cell_type": "code",
   "execution_count": 3,
   "metadata": {},
   "outputs": [],
   "source": [
    "xls = pd.ExcelFile('data/data.xlsx')\n",
    "df_sales = pd.read_excel(xls, 'Sheet1', header = 4, usecols=('C:J'))\n",
    "df_consumer = pd.read_excel(xls, 'Sheet2')\n",
    "df_store = pd.read_excel(xls, 'Sheet3')\n",
    "df_product = pd.read_excel(xls, 'Sheet4')\n",
    "# xls"
   ]
  },
  {
   "cell_type": "code",
   "execution_count": 4,
   "metadata": {},
   "outputs": [
    {
     "name": "stdout",
     "output_type": "stream",
     "text": [
      "<class 'pandas.core.frame.DataFrame'>\n",
      "RangeIndex: 32753 entries, 0 to 32752\n",
      "Data columns (total 8 columns):\n",
      " #   Column     Non-Null Count  Dtype         \n",
      "---  ------     --------------  -----         \n",
      " 0   ID         32753 non-null  object        \n",
      " 1   ProductID  32753 non-null  object        \n",
      " 2   ClientID   32753 non-null  int64         \n",
      " 3   Discount   32753 non-null  float64       \n",
      " 4   UnitPrice  32753 non-null  float64       \n",
      " 5   Quantity   32753 non-null  int64         \n",
      " 6   StoreID    32753 non-null  int64         \n",
      " 7   Date       32753 non-null  datetime64[ns]\n",
      "dtypes: datetime64[ns](1), float64(2), int64(3), object(2)\n",
      "memory usage: 2.0+ MB\n"
     ]
    }
   ],
   "source": [
    "df_sales.info()"
   ]
  },
  {
   "cell_type": "code",
   "execution_count": 5,
   "metadata": {},
   "outputs": [
    {
     "name": "stdout",
     "output_type": "stream",
     "text": [
      "<class 'pandas.core.frame.DataFrame'>\n",
      "RangeIndex: 73 entries, 0 to 72\n",
      "Data columns (total 3 columns):\n",
      " #   Column  Non-Null Count  Dtype \n",
      "---  ------  --------------  ----- \n",
      " 0   ID      73 non-null     object\n",
      " 1   Name    73 non-null     object\n",
      " 2   Size    73 non-null     object\n",
      "dtypes: object(3)\n",
      "memory usage: 1.8+ KB\n"
     ]
    }
   ],
   "source": [
    "df_consumer.info()"
   ]
  },
  {
   "cell_type": "code",
   "execution_count": 6,
   "metadata": {},
   "outputs": [
    {
     "name": "stdout",
     "output_type": "stream",
     "text": [
      "<class 'pandas.core.frame.DataFrame'>\n",
      "RangeIndex: 13650 entries, 0 to 13649\n",
      "Data columns (total 5 columns):\n",
      " #   Column       Non-Null Count  Dtype         \n",
      "---  ------       --------------  -----         \n",
      " 0   ID           13650 non-null  int64         \n",
      " 1   City         13650 non-null  object        \n",
      " 2   State        13650 non-null  object        \n",
      " 3   DateOfBirth  13650 non-null  datetime64[ns]\n",
      " 4   Sex          13650 non-null  object        \n",
      "dtypes: datetime64[ns](1), int64(1), object(3)\n",
      "memory usage: 533.3+ KB\n"
     ]
    }
   ],
   "source": [
    "df_store.info()"
   ]
  },
  {
   "cell_type": "code",
   "execution_count": 7,
   "metadata": {},
   "outputs": [
    {
     "name": "stdout",
     "output_type": "stream",
     "text": [
      "<class 'pandas.core.frame.DataFrame'>\n",
      "RangeIndex: 7 entries, 0 to 6\n",
      "Data columns (total 3 columns):\n",
      " #   Column  Non-Null Count  Dtype \n",
      "---  ------  --------------  ----- \n",
      " 0   ID      7 non-null      int64 \n",
      " 1   Name    7 non-null      object\n",
      " 2   State   7 non-null      object\n",
      "dtypes: int64(1), object(2)\n",
      "memory usage: 296.0+ bytes\n"
     ]
    }
   ],
   "source": [
    "df_product.info()"
   ]
  },
  {
   "cell_type": "code",
   "execution_count": 8,
   "metadata": {},
   "outputs": [
    {
     "data": {
      "text/plain": [
       "0"
      ]
     },
     "execution_count": 8,
     "metadata": {},
     "output_type": "execute_result"
    }
   ],
   "source": [
    "df_sales.duplicated().sum()"
   ]
  },
  {
   "cell_type": "code",
   "execution_count": 9,
   "metadata": {},
   "outputs": [
    {
     "data": {
      "text/html": [
       "<div>\n",
       "<style scoped>\n",
       "    .dataframe tbody tr th:only-of-type {\n",
       "        vertical-align: middle;\n",
       "    }\n",
       "\n",
       "    .dataframe tbody tr th {\n",
       "        vertical-align: top;\n",
       "    }\n",
       "\n",
       "    .dataframe thead th {\n",
       "        text-align: right;\n",
       "    }\n",
       "</style>\n",
       "<table border=\"1\" class=\"dataframe\">\n",
       "  <thead>\n",
       "    <tr style=\"text-align: right;\">\n",
       "      <th></th>\n",
       "      <th>ID</th>\n",
       "      <th>ProductID</th>\n",
       "      <th>ClientID</th>\n",
       "      <th>Discount</th>\n",
       "      <th>UnitPrice</th>\n",
       "      <th>Quantity</th>\n",
       "      <th>StoreID</th>\n",
       "      <th>Date</th>\n",
       "    </tr>\n",
       "  </thead>\n",
       "  <tbody>\n",
       "    <tr>\n",
       "      <th>0</th>\n",
       "      <td>80260d682079b6090c8285b398c50d97</td>\n",
       "      <td>002552c0663708129c0019cc97552d7d3</td>\n",
       "      <td>14001</td>\n",
       "      <td>0.08</td>\n",
       "      <td>249.2</td>\n",
       "      <td>1</td>\n",
       "      <td>4</td>\n",
       "      <td>2018-12-10</td>\n",
       "    </tr>\n",
       "    <tr>\n",
       "      <th>1</th>\n",
       "      <td>3275736da1234f55d52bdf09d86b93bc</td>\n",
       "      <td>001b237c0e9bb435f2e54071129237e93</td>\n",
       "      <td>14001</td>\n",
       "      <td>0.10</td>\n",
       "      <td>162.4</td>\n",
       "      <td>1</td>\n",
       "      <td>4</td>\n",
       "      <td>2019-04-25</td>\n",
       "    </tr>\n",
       "    <tr>\n",
       "      <th>2</th>\n",
       "      <td>f3513eec8f1434b5b7e04ddf3598df40</td>\n",
       "      <td>00066f42aeeb9f3007548bb9d3f33c381</td>\n",
       "      <td>14001</td>\n",
       "      <td>0.10</td>\n",
       "      <td>194.6</td>\n",
       "      <td>1</td>\n",
       "      <td>4</td>\n",
       "      <td>2019-07-17</td>\n",
       "    </tr>\n",
       "    <tr>\n",
       "      <th>3</th>\n",
       "      <td>7180475b60fe6bbbde424d39704a1177</td>\n",
       "      <td>001b72dfd63e9833e8c02742adf472e33</td>\n",
       "      <td>14002</td>\n",
       "      <td>0.10</td>\n",
       "      <td>201.6</td>\n",
       "      <td>2</td>\n",
       "      <td>1</td>\n",
       "      <td>2018-04-10</td>\n",
       "    </tr>\n",
       "    <tr>\n",
       "      <th>4</th>\n",
       "      <td>76600853a200fe87e141adae6b35674c</td>\n",
       "      <td>00210e41887c2a8ef9f791ebc780cc363</td>\n",
       "      <td>14002</td>\n",
       "      <td>0.10</td>\n",
       "      <td>406.0</td>\n",
       "      <td>1</td>\n",
       "      <td>1</td>\n",
       "      <td>2019-01-21</td>\n",
       "    </tr>\n",
       "    <tr>\n",
       "      <th>...</th>\n",
       "      <td>...</td>\n",
       "      <td>...</td>\n",
       "      <td>...</td>\n",
       "      <td>...</td>\n",
       "      <td>...</td>\n",
       "      <td>...</td>\n",
       "      <td>...</td>\n",
       "      <td>...</td>\n",
       "    </tr>\n",
       "    <tr>\n",
       "      <th>32748</th>\n",
       "      <td>b155e2a8589d40bc9c0381ee48e3204f</td>\n",
       "      <td>002ec297b1b00fb9dde7ee6ac24b67712</td>\n",
       "      <td>28694</td>\n",
       "      <td>0.08</td>\n",
       "      <td>218.4</td>\n",
       "      <td>1</td>\n",
       "      <td>4</td>\n",
       "      <td>2018-12-02</td>\n",
       "    </tr>\n",
       "    <tr>\n",
       "      <th>32749</th>\n",
       "      <td>abb71d0110c4be1a1a0c52f929cab4a3</td>\n",
       "      <td>002d4ea7c04739c130bb74d7e7cd16943</td>\n",
       "      <td>28694</td>\n",
       "      <td>0.08</td>\n",
       "      <td>210.0</td>\n",
       "      <td>1</td>\n",
       "      <td>4</td>\n",
       "      <td>2018-12-05</td>\n",
       "    </tr>\n",
       "    <tr>\n",
       "      <th>32750</th>\n",
       "      <td>db9a034f34174edd577b9f64cc982952</td>\n",
       "      <td>001795ec6f1b187d37335e1c4704762e3</td>\n",
       "      <td>28694</td>\n",
       "      <td>0.08</td>\n",
       "      <td>148.4</td>\n",
       "      <td>1</td>\n",
       "      <td>4</td>\n",
       "      <td>2019-08-01</td>\n",
       "    </tr>\n",
       "    <tr>\n",
       "      <th>32751</th>\n",
       "      <td>ee00fa5093eb96d8573403b382fb60a8</td>\n",
       "      <td>002ec297b1b00fb9dde7ee6ac24b67713</td>\n",
       "      <td>28694</td>\n",
       "      <td>0.10</td>\n",
       "      <td>218.4</td>\n",
       "      <td>2</td>\n",
       "      <td>4</td>\n",
       "      <td>2019-11-25</td>\n",
       "    </tr>\n",
       "    <tr>\n",
       "      <th>32752</th>\n",
       "      <td>56c87d433bb46c7862e35e791b1907fa</td>\n",
       "      <td>0009406fd7479715e4bef61dd91f24622</td>\n",
       "      <td>28695</td>\n",
       "      <td>0.10</td>\n",
       "      <td>254.8</td>\n",
       "      <td>1</td>\n",
       "      <td>4</td>\n",
       "      <td>2018-07-04</td>\n",
       "    </tr>\n",
       "  </tbody>\n",
       "</table>\n",
       "<p>32753 rows × 8 columns</p>\n",
       "</div>"
      ],
      "text/plain": [
       "                                     ID                          ProductID  \\\n",
       "0      80260d682079b6090c8285b398c50d97  002552c0663708129c0019cc97552d7d3   \n",
       "1      3275736da1234f55d52bdf09d86b93bc  001b237c0e9bb435f2e54071129237e93   \n",
       "2      f3513eec8f1434b5b7e04ddf3598df40  00066f42aeeb9f3007548bb9d3f33c381   \n",
       "3      7180475b60fe6bbbde424d39704a1177  001b72dfd63e9833e8c02742adf472e33   \n",
       "4      76600853a200fe87e141adae6b35674c  00210e41887c2a8ef9f791ebc780cc363   \n",
       "...                                 ...                                ...   \n",
       "32748  b155e2a8589d40bc9c0381ee48e3204f  002ec297b1b00fb9dde7ee6ac24b67712   \n",
       "32749  abb71d0110c4be1a1a0c52f929cab4a3  002d4ea7c04739c130bb74d7e7cd16943   \n",
       "32750  db9a034f34174edd577b9f64cc982952  001795ec6f1b187d37335e1c4704762e3   \n",
       "32751  ee00fa5093eb96d8573403b382fb60a8  002ec297b1b00fb9dde7ee6ac24b67713   \n",
       "32752  56c87d433bb46c7862e35e791b1907fa  0009406fd7479715e4bef61dd91f24622   \n",
       "\n",
       "       ClientID  Discount  UnitPrice  Quantity  StoreID       Date  \n",
       "0         14001      0.08      249.2         1        4 2018-12-10  \n",
       "1         14001      0.10      162.4         1        4 2019-04-25  \n",
       "2         14001      0.10      194.6         1        4 2019-07-17  \n",
       "3         14002      0.10      201.6         2        1 2018-04-10  \n",
       "4         14002      0.10      406.0         1        1 2019-01-21  \n",
       "...         ...       ...        ...       ...      ...        ...  \n",
       "32748     28694      0.08      218.4         1        4 2018-12-02  \n",
       "32749     28694      0.08      210.0         1        4 2018-12-05  \n",
       "32750     28694      0.08      148.4         1        4 2019-08-01  \n",
       "32751     28694      0.10      218.4         2        4 2019-11-25  \n",
       "32752     28695      0.10      254.8         1        4 2018-07-04  \n",
       "\n",
       "[32753 rows x 8 columns]"
      ]
     },
     "execution_count": 9,
     "metadata": {},
     "output_type": "execute_result"
    }
   ],
   "source": [
    "df_sales"
   ]
  },
  {
   "cell_type": "code",
   "execution_count": 10,
   "metadata": {},
   "outputs": [
    {
     "data": {
      "text/html": [
       "<div>\n",
       "<style scoped>\n",
       "    .dataframe tbody tr th:only-of-type {\n",
       "        vertical-align: middle;\n",
       "    }\n",
       "\n",
       "    .dataframe tbody tr th {\n",
       "        vertical-align: top;\n",
       "    }\n",
       "\n",
       "    .dataframe thead th {\n",
       "        text-align: right;\n",
       "    }\n",
       "</style>\n",
       "<table border=\"1\" class=\"dataframe\">\n",
       "  <thead>\n",
       "    <tr style=\"text-align: right;\">\n",
       "      <th></th>\n",
       "      <th>ID</th>\n",
       "      <th>Name</th>\n",
       "      <th>Size</th>\n",
       "    </tr>\n",
       "  </thead>\n",
       "  <tbody>\n",
       "    <tr>\n",
       "      <th>0</th>\n",
       "      <td>00066f42aeeb9f3007548bb9d3f33c381</td>\n",
       "      <td>Capitão América</td>\n",
       "      <td>P</td>\n",
       "    </tr>\n",
       "    <tr>\n",
       "      <th>1</th>\n",
       "      <td>00066f42aeeb9f3007548bb9d3f33c382</td>\n",
       "      <td>Capitão América</td>\n",
       "      <td>M</td>\n",
       "    </tr>\n",
       "    <tr>\n",
       "      <th>2</th>\n",
       "      <td>00066f42aeeb9f3007548bb9d3f33c383</td>\n",
       "      <td>Capitão América</td>\n",
       "      <td>G</td>\n",
       "    </tr>\n",
       "    <tr>\n",
       "      <th>3</th>\n",
       "      <td>00088930e925c41fd95ebfe695fd26551</td>\n",
       "      <td>Thor</td>\n",
       "      <td>P</td>\n",
       "    </tr>\n",
       "    <tr>\n",
       "      <th>4</th>\n",
       "      <td>00088930e925c41fd95ebfe695fd26552</td>\n",
       "      <td>Thor</td>\n",
       "      <td>M</td>\n",
       "    </tr>\n",
       "    <tr>\n",
       "      <th>...</th>\n",
       "      <td>...</td>\n",
       "      <td>...</td>\n",
       "      <td>...</td>\n",
       "    </tr>\n",
       "    <tr>\n",
       "      <th>68</th>\n",
       "      <td>0030e635639c898b323826589761cf233</td>\n",
       "      <td>Rick Morty</td>\n",
       "      <td>G</td>\n",
       "    </tr>\n",
       "    <tr>\n",
       "      <th>69</th>\n",
       "      <td>003128f981470c3e5a2e7445e4a771cd1</td>\n",
       "      <td>Homer Simpsons</td>\n",
       "      <td>P</td>\n",
       "    </tr>\n",
       "    <tr>\n",
       "      <th>70</th>\n",
       "      <td>003128f981470c3e5a2e7445e4a771cd2</td>\n",
       "      <td>Homer Simpsons</td>\n",
       "      <td>M</td>\n",
       "    </tr>\n",
       "    <tr>\n",
       "      <th>71</th>\n",
       "      <td>003128f981470c3e5a2e7445e4a771cd3</td>\n",
       "      <td>Homer Simpsons</td>\n",
       "      <td>G</td>\n",
       "    </tr>\n",
       "    <tr>\n",
       "      <th>72</th>\n",
       "      <td>003128f981470c3e5a2e7445e4a771cd4</td>\n",
       "      <td>Homer Simpsons</td>\n",
       "      <td>GG</td>\n",
       "    </tr>\n",
       "  </tbody>\n",
       "</table>\n",
       "<p>73 rows × 3 columns</p>\n",
       "</div>"
      ],
      "text/plain": [
       "                                   ID             Name Size\n",
       "0   00066f42aeeb9f3007548bb9d3f33c381  Capitão América    P\n",
       "1   00066f42aeeb9f3007548bb9d3f33c382  Capitão América    M\n",
       "2   00066f42aeeb9f3007548bb9d3f33c383  Capitão América    G\n",
       "3   00088930e925c41fd95ebfe695fd26551             Thor    P\n",
       "4   00088930e925c41fd95ebfe695fd26552             Thor    M\n",
       "..                                ...              ...  ...\n",
       "68  0030e635639c898b323826589761cf233       Rick Morty    G\n",
       "69  003128f981470c3e5a2e7445e4a771cd1   Homer Simpsons    P\n",
       "70  003128f981470c3e5a2e7445e4a771cd2   Homer Simpsons    M\n",
       "71  003128f981470c3e5a2e7445e4a771cd3   Homer Simpsons    G\n",
       "72  003128f981470c3e5a2e7445e4a771cd4   Homer Simpsons   GG\n",
       "\n",
       "[73 rows x 3 columns]"
      ]
     },
     "execution_count": 10,
     "metadata": {},
     "output_type": "execute_result"
    }
   ],
   "source": [
    "df_consumer"
   ]
  },
  {
   "cell_type": "code",
   "execution_count": 11,
   "metadata": {},
   "outputs": [
    {
     "data": {
      "text/html": [
       "<div>\n",
       "<style scoped>\n",
       "    .dataframe tbody tr th:only-of-type {\n",
       "        vertical-align: middle;\n",
       "    }\n",
       "\n",
       "    .dataframe tbody tr th {\n",
       "        vertical-align: top;\n",
       "    }\n",
       "\n",
       "    .dataframe thead th {\n",
       "        text-align: right;\n",
       "    }\n",
       "</style>\n",
       "<table border=\"1\" class=\"dataframe\">\n",
       "  <thead>\n",
       "    <tr style=\"text-align: right;\">\n",
       "      <th></th>\n",
       "      <th>ID</th>\n",
       "      <th>City</th>\n",
       "      <th>State</th>\n",
       "      <th>DateOfBirth</th>\n",
       "      <th>Sex</th>\n",
       "    </tr>\n",
       "  </thead>\n",
       "  <tbody>\n",
       "    <tr>\n",
       "      <th>0</th>\n",
       "      <td>14001</td>\n",
       "      <td>Curitiba</td>\n",
       "      <td>PR</td>\n",
       "      <td>1985-06-28</td>\n",
       "      <td>Homem</td>\n",
       "    </tr>\n",
       "    <tr>\n",
       "      <th>1</th>\n",
       "      <td>14002</td>\n",
       "      <td>Florianópolis</td>\n",
       "      <td>SC</td>\n",
       "      <td>1987-01-10</td>\n",
       "      <td>Homem</td>\n",
       "    </tr>\n",
       "    <tr>\n",
       "      <th>2</th>\n",
       "      <td>14003</td>\n",
       "      <td>Rio de Janeiro</td>\n",
       "      <td>RJ</td>\n",
       "      <td>1979-11-05</td>\n",
       "      <td>Homem</td>\n",
       "    </tr>\n",
       "    <tr>\n",
       "      <th>3</th>\n",
       "      <td>14004</td>\n",
       "      <td>Rio de Janeiro</td>\n",
       "      <td>RJ</td>\n",
       "      <td>1983-11-25</td>\n",
       "      <td>Mulher</td>\n",
       "    </tr>\n",
       "    <tr>\n",
       "      <th>4</th>\n",
       "      <td>14005</td>\n",
       "      <td>Florianópolis</td>\n",
       "      <td>SC</td>\n",
       "      <td>1969-04-07</td>\n",
       "      <td>Homem</td>\n",
       "    </tr>\n",
       "    <tr>\n",
       "      <th>...</th>\n",
       "      <td>...</td>\n",
       "      <td>...</td>\n",
       "      <td>...</td>\n",
       "      <td>...</td>\n",
       "      <td>...</td>\n",
       "    </tr>\n",
       "    <tr>\n",
       "      <th>13645</th>\n",
       "      <td>28689</td>\n",
       "      <td>Belo Horizonte</td>\n",
       "      <td>MG</td>\n",
       "      <td>1999-01-15</td>\n",
       "      <td>Homem</td>\n",
       "    </tr>\n",
       "    <tr>\n",
       "      <th>13646</th>\n",
       "      <td>28691</td>\n",
       "      <td>Belo Horizonte</td>\n",
       "      <td>BH</td>\n",
       "      <td>1956-02-07</td>\n",
       "      <td>Homem</td>\n",
       "    </tr>\n",
       "    <tr>\n",
       "      <th>13647</th>\n",
       "      <td>28692</td>\n",
       "      <td>Porto Alegre</td>\n",
       "      <td>RS</td>\n",
       "      <td>1985-10-19</td>\n",
       "      <td>Homem</td>\n",
       "    </tr>\n",
       "    <tr>\n",
       "      <th>13648</th>\n",
       "      <td>28694</td>\n",
       "      <td>Curitiba</td>\n",
       "      <td>PR</td>\n",
       "      <td>1982-10-22</td>\n",
       "      <td>Homem</td>\n",
       "    </tr>\n",
       "    <tr>\n",
       "      <th>13649</th>\n",
       "      <td>28695</td>\n",
       "      <td>Curitiba</td>\n",
       "      <td>PR</td>\n",
       "      <td>1961-10-24</td>\n",
       "      <td>Homem</td>\n",
       "    </tr>\n",
       "  </tbody>\n",
       "</table>\n",
       "<p>13650 rows × 5 columns</p>\n",
       "</div>"
      ],
      "text/plain": [
       "          ID            City State DateOfBirth     Sex\n",
       "0      14001        Curitiba    PR  1985-06-28   Homem\n",
       "1      14002   Florianópolis    SC  1987-01-10   Homem\n",
       "2      14003  Rio de Janeiro    RJ  1979-11-05   Homem\n",
       "3      14004  Rio de Janeiro    RJ  1983-11-25  Mulher\n",
       "4      14005   Florianópolis    SC  1969-04-07   Homem\n",
       "...      ...             ...   ...         ...     ...\n",
       "13645  28689  Belo Horizonte    MG  1999-01-15   Homem\n",
       "13646  28691  Belo Horizonte    BH  1956-02-07   Homem\n",
       "13647  28692    Porto Alegre    RS  1985-10-19   Homem\n",
       "13648  28694        Curitiba    PR  1982-10-22   Homem\n",
       "13649  28695        Curitiba    PR  1961-10-24   Homem\n",
       "\n",
       "[13650 rows x 5 columns]"
      ]
     },
     "execution_count": 11,
     "metadata": {},
     "output_type": "execute_result"
    }
   ],
   "source": [
    "df_store"
   ]
  },
  {
   "cell_type": "code",
   "execution_count": 12,
   "metadata": {},
   "outputs": [
    {
     "data": {
      "text/html": [
       "<div>\n",
       "<style scoped>\n",
       "    .dataframe tbody tr th:only-of-type {\n",
       "        vertical-align: middle;\n",
       "    }\n",
       "\n",
       "    .dataframe tbody tr th {\n",
       "        vertical-align: top;\n",
       "    }\n",
       "\n",
       "    .dataframe thead th {\n",
       "        text-align: right;\n",
       "    }\n",
       "</style>\n",
       "<table border=\"1\" class=\"dataframe\">\n",
       "  <thead>\n",
       "    <tr style=\"text-align: right;\">\n",
       "      <th></th>\n",
       "      <th>ID</th>\n",
       "      <th>Name</th>\n",
       "      <th>State</th>\n",
       "    </tr>\n",
       "  </thead>\n",
       "  <tbody>\n",
       "    <tr>\n",
       "      <th>0</th>\n",
       "      <td>1</td>\n",
       "      <td>Florianópolis</td>\n",
       "      <td>SC</td>\n",
       "    </tr>\n",
       "    <tr>\n",
       "      <th>1</th>\n",
       "      <td>2</td>\n",
       "      <td>Rio de Janeiro</td>\n",
       "      <td>RJ</td>\n",
       "    </tr>\n",
       "    <tr>\n",
       "      <th>2</th>\n",
       "      <td>3</td>\n",
       "      <td>Porto Alegre</td>\n",
       "      <td>RS</td>\n",
       "    </tr>\n",
       "    <tr>\n",
       "      <th>3</th>\n",
       "      <td>4</td>\n",
       "      <td>Curitiba</td>\n",
       "      <td>PR</td>\n",
       "    </tr>\n",
       "    <tr>\n",
       "      <th>4</th>\n",
       "      <td>7</td>\n",
       "      <td>São Paulo</td>\n",
       "      <td>SP</td>\n",
       "    </tr>\n",
       "    <tr>\n",
       "      <th>5</th>\n",
       "      <td>9</td>\n",
       "      <td>Belo Horizonte</td>\n",
       "      <td>MG</td>\n",
       "    </tr>\n",
       "    <tr>\n",
       "      <th>6</th>\n",
       "      <td>22</td>\n",
       "      <td>Online</td>\n",
       "      <td>na</td>\n",
       "    </tr>\n",
       "  </tbody>\n",
       "</table>\n",
       "</div>"
      ],
      "text/plain": [
       "   ID            Name State\n",
       "0   1   Florianópolis    SC\n",
       "1   2  Rio de Janeiro    RJ\n",
       "2   3    Porto Alegre    RS\n",
       "3   4        Curitiba    PR\n",
       "4   7       São Paulo    SP\n",
       "5   9  Belo Horizonte    MG\n",
       "6  22          Online    na"
      ]
     },
     "execution_count": 12,
     "metadata": {},
     "output_type": "execute_result"
    }
   ],
   "source": [
    "df_product"
   ]
  },
  {
   "cell_type": "code",
   "execution_count": 13,
   "metadata": {},
   "outputs": [],
   "source": [
    "def plot_bars(df, final_table_columns):\n",
    "    df_filter = df[df.columns.intersection(final_table_columns)]\n",
    "    \n",
    "    df_filter_sum = df_filter.groupby(final_table_columns[0], as_index =False).sum()\n",
    "    \n",
    "    plt.figure(figsize = (20, 10))\n",
    "    sns.barplot(data = df_filter_sum, \\\n",
    "            x=final_table_columns[0], \\\n",
    "            y=final_table_columns[1])#.set_title('Cidade que mais arrecadou')\n",
    "    \n",
    "    return df_filter_sum"
   ]
  },
  {
   "cell_type": "code",
   "execution_count": 14,
   "metadata": {},
   "outputs": [],
   "source": [
    "df_sales['discount_price'] = (1 - df_sales['Discount']) * df_sales['UnitPrice'] * df_sales['Quantity']"
   ]
  },
  {
   "cell_type": "code",
   "execution_count": 15,
   "metadata": {},
   "outputs": [],
   "source": [
    "df_name_product = pd.merge(df_sales, df_consumer, left_on='ProductID', right_on='ID') "
   ]
  },
  {
   "cell_type": "code",
   "execution_count": 16,
   "metadata": {},
   "outputs": [
    {
     "data": {
      "image/png": "[encoded data removed]",
      "text/plain": [
       "<Figure size 2000x1000 with 1 Axes>"
      ]
     },
     "metadata": {},
     "output_type": "display_data"
    }
   ],
   "source": [
    "final_table_columns = ['Name','discount_price']\n",
    "df_name_product = plot_bars(df_name_product, final_table_columns)"
   ]
  },
  {
   "cell_type": "code",
   "execution_count": 17,
   "metadata": {},
   "outputs": [],
   "source": [
    "df_size_product = pd.merge(df_sales, df_consumer, left_on='ProductID', right_on='ID') "
   ]
  },
  {
   "cell_type": "code",
   "execution_count": 18,
   "metadata": {},
   "outputs": [
    {
     "data": {
      "image/png": "[encoded data removed]",
      "text/plain": [
       "<Figure size 2000x1000 with 1 Axes>"
      ]
     },
     "metadata": {},
     "output_type": "display_data"
    }
   ],
   "source": [
    "final_table_columns = ['Size','discount_price']\n",
    "df_size_product = plot_bars(df_size_product, final_table_columns)"
   ]
  },
  {
   "cell_type": "code",
   "execution_count": 19,
   "metadata": {},
   "outputs": [],
   "source": [
    "df_name_store = pd.merge(df_sales, df_store, left_on='ClientID', right_on='ID') "
   ]
  },
  {
   "cell_type": "code",
   "execution_count": 20,
   "metadata": {},
   "outputs": [
    {
     "data": {
      "image/png": "[encoded data removed]",
      "text/plain": [
       "<Figure size 2000x1000 with 1 Axes>"
      ]
     },
     "metadata": {},
     "output_type": "display_data"
    }
   ],
   "source": [
    "final_table_columns = ['State','discount_price']\n",
    "df_name_store = plot_bars(df_name_store, final_table_columns)"
   ]
  },
  {
   "cell_type": "code",
   "execution_count": 21,
   "metadata": {},
   "outputs": [],
   "source": [
    "df_sex = pd.merge(df_sales, df_store, left_on='ClientID', right_on='ID') "
   ]
  },
  {
   "cell_type": "code",
   "execution_count": 22,
   "metadata": {},
   "outputs": [
    {
     "data": {
      "image/png": "[encoded data removed]",
      "text/plain": [
       "<Figure size 2000x1000 with 1 Axes>"
      ]
     },
     "metadata": {},
     "output_type": "display_data"
    }
   ],
   "source": [
    "final_table_columns = ['Sex','discount_price']\n",
    "df_sex = plot_bars(df_sex, final_table_columns)"
   ]
  },
  {
   "cell_type": "code",
   "execution_count": 23,
   "metadata": {},
   "outputs": [],
   "source": [
    "df_store_id = pd.merge(df_sales, df_product, left_on='StoreID', right_on='ID') "
   ]
  },
  {
   "cell_type": "code",
   "execution_count": 24,
   "metadata": {},
   "outputs": [
    {
     "data": {
      "image/png": "[encoded data removed]",
      "text/plain": [
       "<Figure size 2000x1000 with 1 Axes>"
      ]
     },
     "metadata": {},
     "output_type": "display_data"
    }
   ],
   "source": [
    "final_table_columns = ['Name','Quantity']\n",
    "df_store_id = plot_bars(df_store_id, final_table_columns)"
   ]
  },
  {
   "cell_type": "code",
   "execution_count": 25,
   "metadata": {},
   "outputs": [
    {
     "data": {
      "text/html": [
       "<div>\n",
       "<style scoped>\n",
       "    .dataframe tbody tr th:only-of-type {\n",
       "        vertical-align: middle;\n",
       "    }\n",
       "\n",
       "    .dataframe tbody tr th {\n",
       "        vertical-align: top;\n",
       "    }\n",
       "\n",
       "    .dataframe thead th {\n",
       "        text-align: right;\n",
       "    }\n",
       "</style>\n",
       "<table border=\"1\" class=\"dataframe\">\n",
       "  <thead>\n",
       "    <tr style=\"text-align: right;\">\n",
       "      <th></th>\n",
       "      <th>Date</th>\n",
       "      <th>discount_price</th>\n",
       "    </tr>\n",
       "  </thead>\n",
       "  <tbody>\n",
       "    <tr>\n",
       "      <th>0</th>\n",
       "      <td>2018-03-01</td>\n",
       "      <td>5295.78</td>\n",
       "    </tr>\n",
       "    <tr>\n",
       "      <th>1</th>\n",
       "      <td>2018-03-02</td>\n",
       "      <td>6930.00</td>\n",
       "    </tr>\n",
       "    <tr>\n",
       "      <th>2</th>\n",
       "      <td>2018-03-03</td>\n",
       "      <td>8260.56</td>\n",
       "    </tr>\n",
       "    <tr>\n",
       "      <th>3</th>\n",
       "      <td>2018-03-04</td>\n",
       "      <td>6599.88</td>\n",
       "    </tr>\n",
       "    <tr>\n",
       "      <th>4</th>\n",
       "      <td>2018-03-05</td>\n",
       "      <td>7679.70</td>\n",
       "    </tr>\n",
       "    <tr>\n",
       "      <th>...</th>\n",
       "      <td>...</td>\n",
       "      <td>...</td>\n",
       "    </tr>\n",
       "    <tr>\n",
       "      <th>685</th>\n",
       "      <td>2020-01-27</td>\n",
       "      <td>3336.48</td>\n",
       "    </tr>\n",
       "    <tr>\n",
       "      <th>686</th>\n",
       "      <td>2020-01-28</td>\n",
       "      <td>4420.08</td>\n",
       "    </tr>\n",
       "    <tr>\n",
       "      <th>687</th>\n",
       "      <td>2020-01-29</td>\n",
       "      <td>2800.98</td>\n",
       "    </tr>\n",
       "    <tr>\n",
       "      <th>688</th>\n",
       "      <td>2020-01-30</td>\n",
       "      <td>4001.76</td>\n",
       "    </tr>\n",
       "    <tr>\n",
       "      <th>689</th>\n",
       "      <td>2020-01-31</td>\n",
       "      <td>2564.10</td>\n",
       "    </tr>\n",
       "  </tbody>\n",
       "</table>\n",
       "<p>690 rows × 2 columns</p>\n",
       "</div>"
      ],
      "text/plain": [
       "          Date  discount_price\n",
       "0   2018-03-01         5295.78\n",
       "1   2018-03-02         6930.00\n",
       "2   2018-03-03         8260.56\n",
       "3   2018-03-04         6599.88\n",
       "4   2018-03-05         7679.70\n",
       "..         ...             ...\n",
       "685 2020-01-27         3336.48\n",
       "686 2020-01-28         4420.08\n",
       "687 2020-01-29         2800.98\n",
       "688 2020-01-30         4001.76\n",
       "689 2020-01-31         2564.10\n",
       "\n",
       "[690 rows x 2 columns]"
      ]
     },
     "execution_count": 25,
     "metadata": {},
     "output_type": "execute_result"
    }
   ],
   "source": [
    "final_table_columns = ['Date' ,'discount_price']\n",
    "\n",
    "df_filter = df_sales[df_sales.columns.intersection(final_table_columns)]\n",
    "# df_filter['Date'] = df_filter['Date'].dt.date\n",
    "df_filter_sum = df_filter.groupby(final_table_columns[0], as_index =False).sum()\n",
    "df_filter_sum"
   ]
  },
  {
   "cell_type": "code",
   "execution_count": 26,
   "metadata": {},
   "outputs": [],
   "source": [
    "y = df_filter_sum['discount_price'].values\n",
    "X = df_filter_sum['Date'].values.reshape(-1, 1)"
   ]
  },
  {
   "cell_type": "code",
   "execution_count": 27,
   "metadata": {},
   "outputs": [
    {
     "data": {
      "text/plain": [
       "numpy.datetime64('2020-01-31T00:00:00.000000000')"
      ]
     },
     "execution_count": 27,
     "metadata": {},
     "output_type": "execute_result"
    }
   ],
   "source": [
    "modelo = LinearRegression()\n",
    "modelo.fit(X, y)\n",
    "X.max()"
   ]
  },
  {
   "cell_type": "code",
   "execution_count": 30,
   "metadata": {},
   "outputs": [
    {
     "ename": "ValueError",
     "evalue": "Error parsing datetime string \"2020-1-1\" at position 5",
     "output_type": "error",
     "traceback": [
      "\u001b[0;31m---------------------------------------------------------------------------\u001b[0m",
      "\u001b[0;31mValueError\u001b[0m                                Traceback (most recent call last)",
      "Cell \u001b[0;32mIn[30], line 4\u001b[0m\n\u001b[1;32m      1\u001b[0m \u001b[38;5;66;03m# anos_futuros = np.arange(2020, 2030).reshape(-1, 1)  # Novamente, precisamos de uma matriz 2D\u001b[39;00m\n\u001b[1;32m      2\u001b[0m \n\u001b[1;32m      3\u001b[0m \u001b[38;5;66;03m# anos_futuros = np.arange(datetime(2020-2-1), datetime(2030-12-31), timedelta(days=1)).astype(datetime)\u001b[39;00m\n\u001b[0;32m----> 4\u001b[0m anos_futuros \u001b[38;5;241m=\u001b[39m np\u001b[38;5;241m.\u001b[39marange(\u001b[43mnp\u001b[49m\u001b[38;5;241;43m.\u001b[39;49m\u001b[43mdatetime64\u001b[49m\u001b[43m(\u001b[49m\u001b[38;5;124;43m'\u001b[39;49m\u001b[38;5;124;43m2020-1-1\u001b[39;49m\u001b[38;5;124;43m'\u001b[39;49m\u001b[43m)\u001b[49m, np\u001b[38;5;241m.\u001b[39mdatetime64(\u001b[38;5;124m'\u001b[39m\u001b[38;5;124m2030-12-31\u001b[39m\u001b[38;5;124m'\u001b[39m))\n\u001b[1;32m      7\u001b[0m vendas_previstas \u001b[38;5;241m=\u001b[39m modelo\u001b[38;5;241m.\u001b[39mpredict(anos_futuros)\n",
      "\u001b[0;31mValueError\u001b[0m: Error parsing datetime string \"2020-1-1\" at position 5"
     ]
    }
   ],
   "source": [
    "# anos_futuros = np.arange(2020, 2030).reshape(-1, 1)  # Novamente, precisamos de uma matriz 2D\n",
    "\n",
    "# anos_futuros = np.arange(datetime(2020-2-1), datetime(2030-12-31), timedelta(days=1)).astype(datetime)\n",
    "anos_futuros = np.arange(np.datetime64('2020-1-1'), np.datetime64('2030-12-31'))\n",
    "                         \n",
    "                         \n",
    "vendas_previstas = modelo.predict(anos_futuros)"
   ]
  },
  {
   "cell_type": "code",
   "execution_count": null,
   "metadata": {},
   "outputs": [],
   "source": [
    "for ano, venda in zip(anos_futuros.ravel(), vendas_previstas):\n",
    "    print(f\"Ano: {ano}, Vendas previstas: {venda:.2f}\")"
   ]
  },
  {
   "cell_type": "code",
   "execution_count": null,
   "metadata": {},
   "outputs": [],
   "source": []
  },
  {
   "cell_type": "code",
   "execution_count": null,
   "metadata": {},
   "outputs": [],
   "source": []
  }
 ],
 "metadata": {
  "kernelspec": {
   "display_name": "Python 3 (ipykernel)",
   "language": "python",
   "name": "python3"
  },
  "language_info": {
   "codemirror_mode": {
    "name": "ipython",
    "version": 3
   },
   "file_extension": ".py",
   "mimetype": "text/x-python",
   "name": "python",
   "nbconvert_exporter": "python",
   "pygments_lexer": "ipython3",
   "version": "3.10.12"
  }
 },
 "nbformat": 4,
 "nbformat_minor": 2
}
