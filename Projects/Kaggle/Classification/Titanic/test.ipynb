{
 "cells": [
  {
   "cell_type": "code",
   "execution_count": 1,
   "metadata": {},
   "outputs": [],
   "source": [
    "\n",
    "import pandas as pd\n",
    "import numpy as np"
   ]
  },
  {
   "cell_type": "code",
   "execution_count": 2,
   "metadata": {},
   "outputs": [],
   "source": [
    "train = pd.read_csv(\"data/train.csv\")\n",
    "test = pd.read_csv(\"data/test.csv\")\n",
    "train['Sex_binario'] = train['Sex'].map({\"male\": 0, \"female\": 1})\n",
    "\n",
    "test['Sex_binario'] = test['Sex'].map({\"male\": 0, \"female\": 1})"
   ]
  },
  {
   "cell_type": "code",
   "execution_count": 3,
   "metadata": {},
   "outputs": [
    {
     "data": {
      "text/plain": [
       "0      0\n",
       "1      1\n",
       "2      1\n",
       "3      1\n",
       "4      0\n",
       "      ..\n",
       "886    0\n",
       "887    1\n",
       "888    0\n",
       "889    1\n",
       "890    0\n",
       "Name: Survived, Length: 891, dtype: int64"
      ]
     },
     "execution_count": 3,
     "metadata": {},
     "output_type": "execute_result"
    }
   ],
   "source": [
    "X = train.select_dtypes(include=np.number).drop([\"PassengerId\", 'Survived'], axis=1).fillna(0)\n",
    "y = train['Survived']\n",
    "y"
   ]
  },
  {
   "cell_type": "code",
   "execution_count": 4,
   "metadata": {},
   "outputs": [],
   "source": [
    "from sklearn.ensemble import RandomForestClassifier, ExtraTreesClassifier\n",
    "from sklearn.linear_model import LogisticRegression\n",
    "from sklearn.preprocessing import StandardScaler, MinMaxScaler\n",
    "from sklearn.model_selection import KFold\n",
    "from sklearn.metrics import log_loss, accuracy_score\n",
    "from sklearn.pipeline import make_pipeline"
   ]
  },
  {
   "cell_type": "code",
   "execution_count": 5,
   "metadata": {},
   "outputs": [
    {
     "name": "stdout",
     "output_type": "stream",
     "text": [
      "RF Accuracy: 0.7869955156950673 - Log Loss: 0.9094309116007115\n",
      "ET Accuracy: 0.7802690582959642 - Log Loss: 1.7851321887744416\n",
      "LR StdScaler Accuracy: 0.7713004484304933 - Log Loss: 0.45488997036355516\n",
      "LR MinMax Accuracy: 0.7713004484304933 - Log Loss: 0.45728829978094115\n",
      "\n",
      "RF Accuracy: 0.8292134831460675 - Log Loss: 0.6380995261890016\n",
      "ET Accuracy: 0.8089887640449438 - Log Loss: 2.631965993490573\n",
      "LR StdScaler Accuracy: 0.7955056179775281 - Log Loss: 0.45792319674193815\n",
      "LR MinMax Accuracy: 0.8044943820224719 - Log Loss: 0.4610908178469295\n",
      "\n"
     ]
    },
    {
     "data": {
      "text/plain": [
       "(891, 4)"
      ]
     },
     "execution_count": 5,
     "metadata": {},
     "output_type": "execute_result"
    }
   ],
   "source": [
    "kf = KFold(n_splits=2, random_state=0, shuffle=True)\n",
    "\n",
    "\n",
    "second_level = np.zeros((X.shape[0], 4))\n",
    "\n",
    "for tr, ts in kf.split(X,y):\n",
    "    Xtr, Xval = X.iloc[tr], X.iloc[ts]\n",
    "    ytr, yval = y.iloc[tr], y.iloc[ts]\n",
    "    \n",
    "    rf = RandomForestClassifier(n_estimators=100, n_jobs=6, random_state=10)\n",
    "    rf.fit(Xtr, ytr)\n",
    "    prf = rf.predict_proba(Xval)[:,1]\n",
    "    prf_ = (prf > 0.5).astype(int)\n",
    "    \n",
    "    print(\"RF Accuracy: {} - Log Loss: {}\".format(accuracy_score(yval, prf_), log_loss(yval, prf)))\n",
    "    \n",
    "    et = ExtraTreesClassifier(n_estimators=100, n_jobs=6, random_state=10)\n",
    "    et.fit(Xtr, ytr)\n",
    "    pet = et.predict_proba(Xval)[:,1]\n",
    "    pet_ = (pet > 0.5).astype(int)\n",
    "    \n",
    "    print(\"ET Accuracy: {} - Log Loss: {}\".format(accuracy_score(yval, pet_), log_loss(yval, pet)))\n",
    "    \n",
    "    lr1 = make_pipeline(StandardScaler(), LogisticRegression())\n",
    "    lr1.fit(Xtr, ytr)\n",
    "    plr1 = lr1.predict_proba(Xval)[:,1]\n",
    "    plr1_ = (plr1 > 0.5).astype(int)\n",
    "    \n",
    "    print(\"LR StdScaler Accuracy: {} - Log Loss: {}\".format(accuracy_score(yval, plr1_), log_loss(yval, plr1)))\n",
    "    \n",
    "    lr2 = make_pipeline(MinMaxScaler(), LogisticRegression())\n",
    "    lr2.fit(Xtr, ytr)\n",
    "    plr2 = lr2.predict_proba(Xval)[:,1]\n",
    "    plr2_ = (plr2 > 0.5).astype(int)\n",
    "    \n",
    "    print(\"LR MinMax Accuracy: {} - Log Loss: {}\".format(accuracy_score(yval, plr2_), log_loss(yval, plr2)))\n",
    "    \n",
    "    second_level[ts, 0] = prf\n",
    "    second_level[ts, 1] = pet\n",
    "    second_level[ts, 2] = plr1\n",
    "    second_level[ts, 3] = plr2\n",
    "    \n",
    "    print()\n",
    "    \n",
    "# fatores de diversidade\n",
    "second_level.shape"
   ]
  },
  {
   "cell_type": "code",
   "execution_count": 6,
   "metadata": {},
   "outputs": [
    {
     "name": "stdout",
     "output_type": "stream",
     "text": [
      "(445, 4) (446, 4)\n",
      "(445,) (446,)\n",
      "Stack Accuracy: 0.8004484304932735  Log loss: 0.4379016109901706\n",
      "\n",
      "(446, 4) (445, 4)\n",
      "(446,) (445,)\n",
      "Stack Accuracy: 0.8157303370786517  Log loss: 0.4288782571629447\n",
      "\n"
     ]
    }
   ],
   "source": [
    "for tr, ts in kf.split(X,y):\n",
    "\n",
    "    Xtr, Xval = second_level[tr], second_level[ts]\n",
    "    ytr, yval = y.iloc[tr], y.iloc[ts]\n",
    "    print(Xtr.shape, Xval.shape)\n",
    "    print(ytr.shape, yval.shape)\n",
    "    lr_stack = LogisticRegression(C=1.)\n",
    "    lr_stack.fit(Xtr, ytr)\n",
    "    plr_stack = lr_stack.predict_proba(Xval)[:,1]\n",
    "    plr_stack_ = (plr_stack > 0.5).astype(int)\n",
    "    \n",
    "    print(\"Stack Accuracy: {}  Log loss: {}\".format(accuracy_score(yval, plr_stack_), log_loss(yval, plr_stack)))\n",
    "    print()"
   ]
  },
  {
   "cell_type": "code",
   "execution_count": 7,
   "metadata": {},
   "outputs": [
    {
     "data": {
      "text/html": [
       "<div>\n",
       "<style scoped>\n",
       "    .dataframe tbody tr th:only-of-type {\n",
       "        vertical-align: middle;\n",
       "    }\n",
       "\n",
       "    .dataframe tbody tr th {\n",
       "        vertical-align: top;\n",
       "    }\n",
       "\n",
       "    .dataframe thead th {\n",
       "        text-align: right;\n",
       "    }\n",
       "</style>\n",
       "<table border=\"1\" class=\"dataframe\">\n",
       "  <thead>\n",
       "    <tr style=\"text-align: right;\">\n",
       "      <th></th>\n",
       "      <th>0</th>\n",
       "      <th>1</th>\n",
       "      <th>2</th>\n",
       "      <th>3</th>\n",
       "    </tr>\n",
       "  </thead>\n",
       "  <tbody>\n",
       "    <tr>\n",
       "      <th>0</th>\n",
       "      <td>1.000000</td>\n",
       "      <td>0.966815</td>\n",
       "      <td>0.808317</td>\n",
       "      <td>0.808803</td>\n",
       "    </tr>\n",
       "    <tr>\n",
       "      <th>1</th>\n",
       "      <td>0.966815</td>\n",
       "      <td>1.000000</td>\n",
       "      <td>0.756243</td>\n",
       "      <td>0.756547</td>\n",
       "    </tr>\n",
       "    <tr>\n",
       "      <th>2</th>\n",
       "      <td>0.808317</td>\n",
       "      <td>0.756243</td>\n",
       "      <td>1.000000</td>\n",
       "      <td>0.995999</td>\n",
       "    </tr>\n",
       "    <tr>\n",
       "      <th>3</th>\n",
       "      <td>0.808803</td>\n",
       "      <td>0.756547</td>\n",
       "      <td>0.995999</td>\n",
       "      <td>1.000000</td>\n",
       "    </tr>\n",
       "  </tbody>\n",
       "</table>\n",
       "</div>"
      ],
      "text/plain": [
       "          0         1         2         3\n",
       "0  1.000000  0.966815  0.808317  0.808803\n",
       "1  0.966815  1.000000  0.756243  0.756547\n",
       "2  0.808317  0.756243  1.000000  0.995999\n",
       "3  0.808803  0.756547  0.995999  1.000000"
      ]
     },
     "execution_count": 7,
     "metadata": {},
     "output_type": "execute_result"
    }
   ],
   "source": [
    "pd.DataFrame(np.corrcoef(second_level.T))"
   ]
  },
  {
   "cell_type": "code",
   "execution_count": null,
   "metadata": {},
   "outputs": [],
   "source": []
  },
  {
   "cell_type": "code",
   "execution_count": null,
   "metadata": {},
   "outputs": [],
   "source": []
  }
 ],
 "metadata": {
  "kernelspec": {
   "display_name": "Python 3 (ipykernel)",
   "language": "python",
   "name": "python3"
  },
  "language_info": {
   "codemirror_mode": {
    "name": "ipython",
    "version": 3
   },
   "file_extension": ".py",
   "mimetype": "text/x-python",
   "name": "python",
   "nbconvert_exporter": "python",
   "pygments_lexer": "ipython3",
   "version": "3.10.12"
  }
 },
 "nbformat": 4,
 "nbformat_minor": 4
}
