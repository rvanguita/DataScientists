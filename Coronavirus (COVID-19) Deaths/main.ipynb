{
 "cells": [
  {
   "cell_type": "code",
   "execution_count": 15,
   "metadata": {},
   "outputs": [],
   "source": [
    "import pandas as pd\n",
    "import numpy as np\n",
    "import matplotlib.pyplot as plt\n",
    "import seaborn as sns\n",
    "import re\n",
    "import math\n",
    "\n",
    "sns.set_style('whitegrid')"
   ]
  },
  {
   "cell_type": "code",
   "execution_count": 16,
   "metadata": {},
   "outputs": [
    {
     "name": "stdout",
     "output_type": "stream",
     "text": [
      "<class 'pandas.core.frame.DataFrame'>\n",
      "RangeIndex: 323796 entries, 0 to 323795\n",
      "Data columns (total 68 columns):\n",
      " #   Column                                      Non-Null Count   Dtype  \n",
      "---  ------                                      --------------   -----  \n",
      " 0   iso_code                                    323796 non-null  object \n",
      " 1   continent                                   308394 non-null  object \n",
      " 2   location                                    323796 non-null  object \n",
      " 3   date                                        323796 non-null  object \n",
      " 4   population                                  323796 non-null  int64  \n",
      " 5   total_cases                                 286549 non-null  float64\n",
      " 6   new_cases                                   314782 non-null  float64\n",
      " 7   new_cases_smoothed                          313523 non-null  float64\n",
      " 8   total_deaths                                265511 non-null  float64\n",
      " 9   new_deaths                                  314824 non-null  float64\n",
      " 10  new_deaths_smoothed                         313594 non-null  float64\n",
      " 11  total_cases_per_million                     286549 non-null  float64\n",
      " 12  new_cases_per_million                       314782 non-null  float64\n",
      " 13  new_cases_smoothed_per_million              313523 non-null  float64\n",
      " 14  total_deaths_per_million                    265511 non-null  float64\n",
      " 15  new_deaths_per_million                      314824 non-null  float64\n",
      " 16  new_deaths_smoothed_per_million             313594 non-null  float64\n",
      " 17  reproduction_rate                           184817 non-null  float64\n",
      " 18  icu_patients                                36833 non-null   float64\n",
      " 19  icu_patients_per_million                    36833 non-null   float64\n",
      " 20  hosp_patients                               37714 non-null   float64\n",
      " 21  hosp_patients_per_million                   37714 non-null   float64\n",
      " 22  weekly_icu_admissions                       9740 non-null    float64\n",
      " 23  weekly_icu_admissions_per_million           9740 non-null    float64\n",
      " 24  weekly_hosp_admissions                      22451 non-null   float64\n",
      " 25  weekly_hosp_admissions_per_million          22451 non-null   float64\n",
      " 26  total_tests                                 79387 non-null   float64\n",
      " 27  new_tests                                   75403 non-null   float64\n",
      " 28  total_tests_per_thousand                    79387 non-null   float64\n",
      " 29  new_tests_per_thousand                      75403 non-null   float64\n",
      " 30  new_tests_smoothed                          103965 non-null  float64\n",
      " 31  new_tests_smoothed_per_thousand             103965 non-null  float64\n",
      " 32  positive_rate                               95927 non-null   float64\n",
      " 33  tests_per_case                              94348 non-null   float64\n",
      " 34  tests_units                                 106788 non-null  object \n",
      " 35  total_vaccinations                          76677 non-null   float64\n",
      " 36  people_vaccinated                           73425 non-null   float64\n",
      " 37  people_fully_vaccinated                     69954 non-null   float64\n",
      " 38  total_boosters                              45144 non-null   float64\n",
      " 39  new_vaccinations                            63120 non-null   float64\n",
      " 40  new_vaccinations_smoothed                   173132 non-null  float64\n",
      " 41  total_vaccinations_per_hundred              76677 non-null   float64\n",
      " 42  people_vaccinated_per_hundred               73425 non-null   float64\n",
      " 43  people_fully_vaccinated_per_hundred         69954 non-null   float64\n",
      " 44  total_boosters_per_hundred                  45144 non-null   float64\n",
      " 45  new_vaccinations_smoothed_per_million       173132 non-null  float64\n",
      " 46  new_people_vaccinated_smoothed              172919 non-null  float64\n",
      " 47  new_people_vaccinated_smoothed_per_hundred  172919 non-null  float64\n",
      " 48  stringency_index                            197651 non-null  float64\n",
      " 49  population_density                          274744 non-null  float64\n",
      " 50  median_age                                  255536 non-null  float64\n",
      " 51  aged_65_older                               246584 non-null  float64\n",
      " 52  aged_70_older                               252976 non-null  float64\n",
      " 53  gdp_per_capita                              250421 non-null  float64\n",
      " 54  extreme_poverty                             161337 non-null  float64\n",
      " 55  cardiovasc_death_rate                       250943 non-null  float64\n",
      " 56  diabetes_prevalence                         263709 non-null  float64\n",
      " 57  female_smokers                              188232 non-null  float64\n",
      " 58  male_smokers                                185669 non-null  float64\n",
      " 59  handwashing_facilities                      122904 non-null  float64\n",
      " 60  hospital_beds_per_thousand                  221512 non-null  float64\n",
      " 61  life_expectancy                             297776 non-null  float64\n",
      " 62  human_development_index                     243227 non-null  float64\n",
      " 63  Unnamed: 63                                 0 non-null       float64\n",
      " 64  excess_mortality_cumulative_absolute        11299 non-null   float64\n",
      " 65  excess_mortality_cumulative                 11299 non-null   float64\n",
      " 66  excess_mortality                            11299 non-null   float64\n",
      " 67  excess_mortality_cumulative_per_million     11299 non-null   float64\n",
      "dtypes: float64(62), int64(1), object(5)\n",
      "memory usage: 168.0+ MB\n"
     ]
    }
   ],
   "source": [
    "df_covidDeaths = pd.read_csv('data/COVID_Deaths.csv')\n",
    "df_covidDeaths.info()"
   ]
  },
  {
   "cell_type": "code",
   "execution_count": 17,
   "metadata": {},
   "outputs": [
    {
     "data": {
      "text/plain": [
       "0"
      ]
     },
     "execution_count": 17,
     "metadata": {},
     "output_type": "execute_result"
    }
   ],
   "source": [
    "df_covidDeaths.duplicated().sum()"
   ]
  },
  {
   "cell_type": "code",
   "execution_count": 18,
   "metadata": {},
   "outputs": [],
   "source": [
    "Death_percentage = df_covidDeaths['total_deaths'] / df_covidDeaths['total_cases'] * 100\n",
    "df_covidDeaths[\"Death_percentage\"] = Death_percentage"
   ]
  },
  {
   "cell_type": "code",
   "execution_count": 29,
   "metadata": {},
   "outputs": [
    {
     "ename": "SyntaxError",
     "evalue": "invalid syntax (3470849755.py, line 6)",
     "output_type": "error",
     "traceback": [
      "\u001b[0;36m  Cell \u001b[0;32mIn[29], line 6\u001b[0;36m\u001b[0m\n\u001b[0;31m    print(df_covidDeaths[..]['Afghanistan'])\u001b[0m\n\u001b[0m                         ^\u001b[0m\n\u001b[0;31mSyntaxError\u001b[0m\u001b[0;31m:\u001b[0m invalid syntax\n"
     ]
    }
   ],
   "source": [
    "counter = 'Brazil'\n",
    "\n",
    "\n",
    "for n in df_covidDeaths:\n",
    "    if n == 'location':\n",
    "        print(df_covidDeaths[..]['Afghanistan'])"
   ]
  },
  {
   "cell_type": "code",
   "execution_count": null,
   "metadata": {},
   "outputs": [],
   "source": []
  }
 ],
 "metadata": {
  "kernelspec": {
   "display_name": "Python 3",
   "language": "python",
   "name": "python3"
  },
  "language_info": {
   "codemirror_mode": {
    "name": "ipython",
    "version": 3
   },
   "file_extension": ".py",
   "mimetype": "text/x-python",
   "name": "python",
   "nbconvert_exporter": "python",
   "pygments_lexer": "ipython3",
   "version": "3.10.6"
  },
  "orig_nbformat": 4
 },
 "nbformat": 4,
 "nbformat_minor": 2
}
